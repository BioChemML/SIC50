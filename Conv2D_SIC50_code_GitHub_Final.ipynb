{
 "cells": [
  {
   "cell_type": "code",
   "execution_count": 1,
   "id": "53fdab87",
   "metadata": {},
   "outputs": [],
   "source": [
    "import tensorflow as tf\n",
    "import keras_preprocessing\n",
    "from keras_preprocessing import image\n",
    "from keras_preprocessing.image import ImageDataGenerator\n",
    "\n",
    "TRAINING_DIR = ('D:\\\\all-con1ctrl\\\\c-con1ctrl\\\\train')\n",
    "training_datagen = ImageDataGenerator(\n",
    "      rescale = 1./255,\n",
    "      rotation_range=40,\n",
    "      width_shift_range=0.2,\n",
    "      height_shift_range=0.2,\n",
    "      shear_range=0.2,\n",
    "      zoom_range=0.2,\n",
    "      horizontal_flip=True,\n",
    "      fill_mode='nearest')"
   ]
  },
  {
   "cell_type": "code",
   "execution_count": 2,
   "id": "1bacbf7f",
   "metadata": {},
   "outputs": [],
   "source": [
    "VALIDATION_DIR = ('D:\\\\all-con1ctrl\\\\c-con1ctrl\\\\test')\n",
    "validation_datagen = ImageDataGenerator(rescale = 1./255)"
   ]
  },
  {
   "cell_type": "code",
   "execution_count": 3,
   "id": "ef1b5ae2",
   "metadata": {},
   "outputs": [
    {
     "name": "stdout",
     "output_type": "stream",
     "text": [
      "Found 5040 images belonging to 2 classes.\n"
     ]
    }
   ],
   "source": [
    "train_generator = training_datagen.flow_from_directory(\n",
    "    TRAINING_DIR,\n",
    "    target_size=(201,201),\n",
    "    class_mode='binary',\n",
    "    batch_size=10\n",
    ")"
   ]
  },
  {
   "cell_type": "code",
   "execution_count": 4,
   "id": "456a4668",
   "metadata": {},
   "outputs": [
    {
     "name": "stdout",
     "output_type": "stream",
     "text": [
      "Found 560 images belonging to 2 classes.\n"
     ]
    }
   ],
   "source": [
    "validation_generator = validation_datagen.flow_from_directory(\n",
    "    VALIDATION_DIR,\n",
    "    target_size=(201,201),\n",
    "    class_mode='binary',\n",
    "    batch_size=10\n",
    ")"
   ]
  },
  {
   "cell_type": "code",
   "execution_count": 5,
   "id": "7d9bdbe7",
   "metadata": {},
   "outputs": [
    {
     "name": "stdout",
     "output_type": "stream",
     "text": [
      "Model: \"sequential\"\n",
      "_________________________________________________________________\n",
      " Layer (type)                Output Shape              Param #   \n",
      "=================================================================\n",
      " conv2d (Conv2D)             (None, 194, 194, 64)      1792      \n",
      "                                                                 \n",
      " max_pooling2d (MaxPooling2D  (None, 97, 97, 64)       0         \n",
      " )                                                               \n",
      "                                                                 \n",
      " conv2d_1 (Conv2D)           (None, 95, 95, 64)        36928     \n",
      "                                                                 \n",
      " max_pooling2d_1 (MaxPooling  (None, 47, 47, 64)       0         \n",
      " 2D)                                                             \n",
      "                                                                 \n",
      " conv2d_2 (Conv2D)           (None, 45, 45, 128)       73856     \n",
      "                                                                 \n",
      " max_pooling2d_2 (MaxPooling  (None, 22, 22, 128)      0         \n",
      " 2D)                                                             \n",
      "                                                                 \n",
      " conv2d_3 (Conv2D)           (None, 20, 20, 128)       147584    \n",
      "                                                                 \n",
      " max_pooling2d_3 (MaxPooling  (None, 10, 10, 128)      0         \n",
      " 2D)                                                             \n",
      "                                                                 \n",
      " flatten (Flatten)           (None, 12800)             0         \n",
      "                                                                 \n",
      " dropout (Dropout)           (None, 12800)             0         \n",
      "                                                                 \n",
      " dense (Dense)               (None, 512)               6554112   \n",
      "                                                                 \n",
      " dense_1 (Dense)             (None, 1)                 513       \n",
      "                                                                 \n",
      "=================================================================\n",
      "Total params: 6,814,785\n",
      "Trainable params: 6,814,785\n",
      "Non-trainable params: 0\n",
      "_________________________________________________________________\n"
     ]
    }
   ],
   "source": [
    "model = tf.keras.models.Sequential([\n",
    "    # This is the first convolution\n",
    "    tf.keras.layers.Conv2D(64, (3,3), activation='relu', input_shape=(196, 196, 3)),\n",
    "    tf.keras.layers.MaxPooling2D(2, 2),\n",
    "    # The second convolution\n",
    "    tf.keras.layers.Conv2D(64, (3,3), activation='relu'),\n",
    "    tf.keras.layers.MaxPooling2D(2,2),\n",
    "    # The third convolution\n",
    "    tf.keras.layers.Conv2D(128, (3,3), activation='relu'),\n",
    "    tf.keras.layers.MaxPooling2D(2,2),\n",
    "    # The fourth convolution\n",
    "    tf.keras.layers.Conv2D(128, (3,3), activation='relu'),\n",
    "    tf.keras.layers.MaxPooling2D(2,2),\n",
    "    # Flatten the results to feed into a DNN\n",
    "    tf.keras.layers.Flatten(),\n",
    "    tf.keras.layers.Dropout(0.5),\n",
    "    # 512 neuron hidden layer\n",
    "    tf.keras.layers.Dense(512, activation='relu'),\n",
    "    tf.keras.layers.Dense(1, activation='sigmoid')\n",
    "])\n",
    "\n",
    "\n",
    "model.summary()"
   ]
  },
  {
   "cell_type": "code",
   "execution_count": 6,
   "id": "130a3a0b",
   "metadata": {},
   "outputs": [],
   "source": [
    "model.compile(loss = tf.keras.losses.BinaryCrossentropy(),\n",
    "              optimizer = tf.keras.optimizers.Adam(learning_rate=1e-3),\n",
    "              metrics = [tf.keras.metrics.BinaryAccuracy(),\n",
    "                         tf.keras.metrics.TruePositives(),\n",
    "                         tf.keras.metrics.TrueNegatives(),\n",
    "                         tf.keras.metrics.FalsePositives(),\n",
    "                         tf.keras.metrics.FalseNegatives()])"
   ]
  },
  {
   "cell_type": "code",
   "execution_count": 8,
   "id": "c827094a",
   "metadata": {
    "scrolled": true
   },
   "outputs": [
    {
     "name": "stdout",
     "output_type": "stream",
     "text": [
      "Epoch 1/4\n",
      "504/504 [==============================] - 271s 538ms/step - loss: 0.0867 - binary_accuracy: 0.9659 - true_positives: 2438.0000 - true_negatives: 2430.0000 - false_positives: 90.0000 - false_negatives: 82.0000 - val_loss: 0.1463 - val_binary_accuracy: 0.9482 - val_true_positives: 259.0000 - val_true_negatives: 272.0000 - val_false_positives: 8.0000 - val_false_negatives: 21.0000\n",
      "Epoch 2/4\n",
      "504/504 [==============================] - 264s 523ms/step - loss: 0.0615 - binary_accuracy: 0.9772 - true_positives: 2461.0000 - true_negatives: 2464.0000 - false_positives: 56.0000 - false_negatives: 59.0000 - val_loss: 0.0962 - val_binary_accuracy: 0.9643 - val_true_positives: 266.0000 - val_true_negatives: 274.0000 - val_false_positives: 6.0000 - val_false_negatives: 14.0000\n",
      "Epoch 3/4\n",
      "504/504 [==============================] - 263s 521ms/step - loss: 0.0501 - binary_accuracy: 0.9823 - true_positives: 2475.0000 - true_negatives: 2476.0000 - false_positives: 44.0000 - false_negatives: 45.0000 - val_loss: 0.0924 - val_binary_accuracy: 0.9625 - val_true_positives: 262.0000 - val_true_negatives: 277.0000 - val_false_positives: 3.0000 - val_false_negatives: 18.0000\n",
      "Epoch 4/4\n",
      "504/504 [==============================] - 261s 518ms/step - loss: 0.0389 - binary_accuracy: 0.9849 - true_positives: 2489.0000 - true_negatives: 2475.0000 - false_positives: 45.0000 - false_negatives: 31.0000 - val_loss: 0.0688 - val_binary_accuracy: 0.9732 - val_true_positives: 277.0000 - val_true_negatives: 268.0000 - val_false_positives: 12.0000 - val_false_negatives: 3.0000\n"
     ]
    }
   ],
   "source": [
    "history = model.fit(train_generator, \n",
    "                    epochs=4, \n",
    "                    steps_per_epoch=504, \n",
    "                    validation_data = validation_generator, \n",
    "                    verbose = 1, \n",
    "                    validation_steps=56)"
   ]
  }
 ],
 "metadata": {
  "kernelspec": {
   "display_name": "Python 3 (ipykernel)",
   "language": "python",
   "name": "python3"
  },
  "language_info": {
   "codemirror_mode": {
    "name": "ipython",
    "version": 3
   },
   "file_extension": ".py",
   "mimetype": "text/x-python",
   "name": "python",
   "nbconvert_exporter": "python",
   "pygments_lexer": "ipython3",
   "version": "3.9.12"
  }
 },
 "nbformat": 4,
 "nbformat_minor": 5
}
