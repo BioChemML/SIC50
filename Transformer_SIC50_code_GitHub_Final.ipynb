{
 "cells": [
  {
   "cell_type": "code",
   "execution_count": 1,
   "id": "f920e21e",
   "metadata": {},
   "outputs": [],
   "source": [
    "import numpy as np\n",
    "import tensorflow as tf\n",
    "from tensorflow import keras\n",
    "from tensorflow.keras import layers\n",
    "import tensorflow_addons as tfa\n",
    "from keras_preprocessing import image\n",
    "from keras_preprocessing.image import ImageDataGenerator"
   ]
  },
  {
   "cell_type": "code",
   "execution_count": 2,
   "id": "177176fd",
   "metadata": {},
   "outputs": [],
   "source": [
    "num_classes = 2\n",
    "input_shape = (201, 201, 3)"
   ]
  },
  {
   "cell_type": "code",
   "execution_count": 3,
   "id": "3078bf3e",
   "metadata": {},
   "outputs": [],
   "source": [
    "TRAINING_DIR = ('D:\\\\all-con1ctrl\\\\c-con1ctrl\\\\train')\n",
    "training_datagen = ImageDataGenerator(rescale = 1./255)"
   ]
  },
  {
   "cell_type": "code",
   "execution_count": 4,
   "id": "862e03e6",
   "metadata": {},
   "outputs": [],
   "source": [
    "VALIDATION_DIR = ('D:\\\\all-con1ctrl\\\\c-con1ctrl\\\\test')\n",
    "validation_datagen = ImageDataGenerator(rescale = 1./255)"
   ]
  },
  {
   "cell_type": "code",
   "execution_count": 5,
   "id": "74dae24d",
   "metadata": {},
   "outputs": [
    {
     "name": "stdout",
     "output_type": "stream",
     "text": [
      "Found 5040 images belonging to 2 classes.\n"
     ]
    }
   ],
   "source": [
    "train_generator = training_datagen.flow_from_directory(\n",
    "    TRAINING_DIR,\n",
    "    target_size=(201,201),\n",
    "    class_mode='binary',\n",
    "    batch_size=200\n",
    ")"
   ]
  },
  {
   "cell_type": "code",
   "execution_count": 6,
   "id": "51ab9245",
   "metadata": {},
   "outputs": [
    {
     "name": "stdout",
     "output_type": "stream",
     "text": [
      "Found 560 images belonging to 2 classes.\n"
     ]
    }
   ],
   "source": [
    "validation_generator = validation_datagen.flow_from_directory(\n",
    "    VALIDATION_DIR,\n",
    "    target_size=(201,201),\n",
    "    class_mode='binary',\n",
    "    batch_size=200\n",
    ")"
   ]
  },
  {
   "cell_type": "code",
   "execution_count": 7,
   "id": "889a5f70",
   "metadata": {},
   "outputs": [],
   "source": [
    "x_train, y_train = train_generator.next()\n",
    "x_test, y_test = validation_generator.next()"
   ]
  },
  {
   "cell_type": "code",
   "execution_count": 8,
   "id": "3bf1e74b",
   "metadata": {},
   "outputs": [
    {
     "name": "stdout",
     "output_type": "stream",
     "text": [
      "x_train shape: (200, 201, 201, 3) - y_train shape: (200,)\n",
      "x_test shape: (200, 201, 201, 3) - y_test shape: (200,)\n"
     ]
    }
   ],
   "source": [
    "print(f\"x_train shape: {x_train.shape} - y_train shape: {y_train.shape}\")\n",
    "print(f\"x_test shape: {x_test.shape} - y_test shape: {y_test.shape}\")"
   ]
  },
  {
   "cell_type": "code",
   "execution_count": 9,
   "id": "a6192263",
   "metadata": {},
   "outputs": [],
   "source": [
    "learning_rate = 0.001\n",
    "weight_decay = 0.0001\n",
    "batch_size = 200\n",
    "num_epochs = 100\n",
    "image_size = 72  # We'll resize input images to this size\n",
    "patch_size = 6  # Size of the patches to be extract from the input images\n",
    "num_patches = (image_size // patch_size) ** 2\n",
    "projection_dim = 64\n",
    "num_heads = 4\n",
    "transformer_units = [\n",
    "    projection_dim * 2,\n",
    "    projection_dim,\n",
    "]  # Size of the transformer layers\n",
    "transformer_layers = 4\n",
    "mlp_head_units = [2048, 1024]  # Size of the dense layers of the final classifier"
   ]
  },
  {
   "cell_type": "code",
   "execution_count": 10,
   "id": "ca4af452",
   "metadata": {},
   "outputs": [],
   "source": [
    "data_augmentation = keras.Sequential(\n",
    "    [\n",
    "        layers.Normalization(),\n",
    "        layers.Resizing(image_size, image_size),\n",
    "        layers.RandomFlip(\"horizontal\"),\n",
    "        layers.RandomRotation(factor=0.02),\n",
    "        layers.RandomZoom(\n",
    "            height_factor=0.2, width_factor=0.2\n",
    "        ),\n",
    "    ],\n",
    "    name=\"data_augmentation\",\n",
    ")\n",
    "# Compute the mean and the variance of the training data for normalization.\n",
    "data_augmentation.layers[0].adapt(x_train)"
   ]
  },
  {
   "cell_type": "code",
   "execution_count": 11,
   "id": "7819121e",
   "metadata": {},
   "outputs": [],
   "source": [
    "def mlp(x, hidden_units, dropout_rate):\n",
    "    for units in hidden_units:\n",
    "        x = layers.Dense(units, activation=tf.nn.gelu)(x)\n",
    "        x = layers.Dropout(dropout_rate)(x)\n",
    "    return x"
   ]
  },
  {
   "cell_type": "code",
   "execution_count": 12,
   "id": "bd14359b",
   "metadata": {},
   "outputs": [],
   "source": [
    "class Patches(layers.Layer):\n",
    "    def __init__(self, patch_size):\n",
    "        super(Patches, self).__init__()\n",
    "        self.patch_size = patch_size\n",
    "\n",
    "    def call(self, images):\n",
    "        batch_size = tf.shape(images)[0]\n",
    "        patches = tf.image.extract_patches(\n",
    "            images=images,\n",
    "            sizes=[1, self.patch_size, self.patch_size, 1],\n",
    "            strides=[1, self.patch_size, self.patch_size, 1],\n",
    "            rates=[1, 1, 1, 1],\n",
    "            padding=\"VALID\",\n",
    "        )\n",
    "        patch_dims = patches.shape[-1]\n",
    "        patches = tf.reshape(patches, [batch_size, -1, patch_dims])\n",
    "        return patches"
   ]
  },
  {
   "cell_type": "code",
   "execution_count": 13,
   "id": "a1163e5f",
   "metadata": {},
   "outputs": [
    {
     "name": "stdout",
     "output_type": "stream",
     "text": [
      "Image size: 72 X 72\n",
      "Patch size: 6 X 6\n",
      "Patches per image: 144\n",
      "Elements per patch: 108\n"
     ]
    },
    {
     "data": {
      "image/png": "[encoded data removed]",
      "text/plain": [
       "<Figure size 288x288 with 1 Axes>"
      ]
     },
     "metadata": {
      "needs_background": "light"
     },
     "output_type": "display_data"
    },
    {
     "data": {
      "image/png": "[encoded data removed]",
      "text/plain": [
       "<Figure size 288x288 with 144 Axes>"
      ]
     },
     "metadata": {
      "needs_background": "light"
     },
     "output_type": "display_data"
    }
   ],
   "source": [
    "import matplotlib.pyplot as plt\n",
    "\n",
    "plt.figure(figsize=(4, 4))\n",
    "image = x_train[np.random.choice(range(x_train.shape[0]))]\n",
    "plt.imshow(image.astype(\"uint8\"))\n",
    "plt.axis(\"off\")\n",
    "\n",
    "resized_image = tf.image.resize(\n",
    "    tf.convert_to_tensor([image]), size=(image_size, image_size)\n",
    ")\n",
    "patches = Patches(patch_size)(resized_image)\n",
    "print(f\"Image size: {image_size} X {image_size}\")\n",
    "print(f\"Patch size: {patch_size} X {patch_size}\")\n",
    "print(f\"Patches per image: {patches.shape[1]}\")\n",
    "print(f\"Elements per patch: {patches.shape[-1]}\")\n",
    "\n",
    "n = int(np.sqrt(patches.shape[1]))\n",
    "plt.figure(figsize=(4, 4))\n",
    "for i, patch in enumerate(patches[0]):\n",
    "    ax = plt.subplot(n, n, i + 1)\n",
    "    patch_img = tf.reshape(patch, (patch_size, patch_size, 3))\n",
    "    plt.imshow(patch_img.numpy().astype(\"uint8\"))\n",
    "    plt.axis(\"off\")"
   ]
  },
  {
   "cell_type": "code",
   "execution_count": 14,
   "id": "dc732e45",
   "metadata": {},
   "outputs": [],
   "source": [
    "class PatchEncoder(layers.Layer):\n",
    "    def __init__(self, num_patches, projection_dim):\n",
    "        super(PatchEncoder, self).__init__()\n",
    "        self.num_patches = num_patches\n",
    "        self.projection = layers.Dense(units=projection_dim)\n",
    "        self.position_embedding = layers.Embedding(\n",
    "            input_dim=num_patches, output_dim=projection_dim\n",
    "        )\n",
    "\n",
    "    def call(self, patch):\n",
    "        positions = tf.range(start=0, limit=self.num_patches, delta=1)\n",
    "        encoded = self.projection(patch) + self.position_embedding(positions)\n",
    "        return encoded\n"
   ]
  },
  {
   "cell_type": "code",
   "execution_count": 15,
   "id": "f70aa1d5",
   "metadata": {},
   "outputs": [],
   "source": [
    "def create_vit_classifier():\n",
    "    inputs = layers.Input(shape=input_shape)\n",
    "    # Augment data.\n",
    "    augmented = data_augmentation(inputs)\n",
    "    # Create patches.\n",
    "    patches = Patches(patch_size)(augmented)\n",
    "    # Encode patches.\n",
    "    encoded_patches = PatchEncoder(num_patches, projection_dim)(patches)\n",
    "\n",
    "    # Create multiple layers of the Transformer block.\n",
    "    for _ in range(transformer_layers):\n",
    "        # Layer normalization 1.\n",
    "        x1 = layers.LayerNormalization(epsilon=1e-6)(encoded_patches)\n",
    "        # Create a multi-head attention layer.\n",
    "        attention_output = layers.MultiHeadAttention(\n",
    "            num_heads=num_heads, key_dim=projection_dim, dropout=0.1\n",
    "        )(x1, x1)\n",
    "        # Skip connection 1.\n",
    "        x2 = layers.Add()([attention_output, encoded_patches])\n",
    "        # Layer normalization 2.\n",
    "        x3 = layers.LayerNormalization(epsilon=1e-6)(x2)\n",
    "        # MLP.\n",
    "        x3 = mlp(x3, hidden_units=transformer_units, dropout_rate=0.1)\n",
    "        # Skip connection 2.\n",
    "        encoded_patches = layers.Add()([x3, x2])\n",
    "\n",
    "    # Create a [batch_size, projection_dim] tensor.\n",
    "    representation = layers.LayerNormalization(epsilon=1e-6)(encoded_patches)\n",
    "    representation = layers.Flatten()(representation)\n",
    "    representation = layers.Dropout(0.5)(representation)\n",
    "    # Add MLP.\n",
    "    features = mlp(representation, hidden_units=mlp_head_units, dropout_rate=0.5)\n",
    "    # Classify outputs.\n",
    "    logits = layers.Dense(1,activation='sigmoid')(features)\n",
    "    # Create the Keras model.\n",
    "    model = keras.Model(inputs=inputs, outputs=logits)\n",
    "    return model"
   ]
  },
  {
   "cell_type": "code",
   "execution_count": 16,
   "id": "54f0af18",
   "metadata": {
    "scrolled": true
   },
   "outputs": [
    {
     "name": "stdout",
     "output_type": "stream",
     "text": [
      "Epoch 1/100\n"
     ]
    },
    {
     "name": "stderr",
     "output_type": "stream",
     "text": [
      "C:\\Users\\lenovo-pc\\AppData\\Roaming\\Python\\Python39\\site-packages\\tensorflow\\python\\util\\dispatch.py:1082: UserWarning: \"`binary_crossentropy` received `from_logits=True`, but the `output` argument was produced by a sigmoid or softmax activation and thus does not represent logits. Was this intended?\"\n",
      "  return dispatch_target(*args, **kwargs)\n"
     ]
    },
    {
     "name": "stdout",
     "output_type": "stream",
     "text": [
      "1/1 [==============================] - 15s 15s/step - loss: 1.4201 - binary_accuracy: 0.5111 - true_positives: 25.0000 - true_negatives: 67.0000 - false_positives: 17.0000 - false_negatives: 71.0000 - val_loss: 7.7120 - val_binary_accuracy: 0.7000 - val_true_positives: 10.0000 - val_true_negatives: 4.0000 - val_false_positives: 6.0000 - val_false_negatives: 0.0000e+00\n",
      "Epoch 2/100\n",
      "1/1 [==============================] - 5s 5s/step - loss: 9.8770 - binary_accuracy: 0.6111 - true_positives: 96.0000 - true_negatives: 14.0000 - false_positives: 70.0000 - false_negatives: 0.0000e+00 - val_loss: 0.3798 - val_binary_accuracy: 0.8500 - val_true_positives: 8.0000 - val_true_negatives: 9.0000 - val_false_positives: 1.0000 - val_false_negatives: 2.0000\n",
      "Epoch 3/100\n",
      "1/1 [==============================] - 5s 5s/step - loss: 0.5164 - binary_accuracy: 0.8111 - true_positives: 73.0000 - true_negatives: 73.0000 - false_positives: 11.0000 - false_negatives: 23.0000 - val_loss: 0.2527 - val_binary_accuracy: 0.9000 - val_true_positives: 10.0000 - val_true_negatives: 8.0000 - val_false_positives: 2.0000 - val_false_negatives: 0.0000e+00\n",
      "Epoch 4/100\n",
      "1/1 [==============================] - 4s 4s/step - loss: 0.6266 - binary_accuracy: 0.8722 - true_positives: 89.0000 - true_negatives: 68.0000 - false_positives: 16.0000 - false_negatives: 7.0000 - val_loss: 0.1655 - val_binary_accuracy: 0.9500 - val_true_positives: 10.0000 - val_true_negatives: 9.0000 - val_false_positives: 1.0000 - val_false_negatives: 0.0000e+00\n",
      "Epoch 5/100\n",
      "1/1 [==============================] - 4s 4s/step - loss: 0.6323 - binary_accuracy: 0.8389 - true_positives: 79.0000 - true_negatives: 72.0000 - false_positives: 12.0000 - false_negatives: 17.0000 - val_loss: 0.3666 - val_binary_accuracy: 0.9000 - val_true_positives: 10.0000 - val_true_negatives: 8.0000 - val_false_positives: 2.0000 - val_false_negatives: 0.0000e+00\n",
      "Epoch 6/100\n",
      "1/1 [==============================] - 4s 4s/step - loss: 0.4761 - binary_accuracy: 0.8944 - true_positives: 93.0000 - true_negatives: 68.0000 - false_positives: 16.0000 - false_negatives: 3.0000 - val_loss: 0.3898 - val_binary_accuracy: 0.6500 - val_true_positives: 3.0000 - val_true_negatives: 10.0000 - val_false_positives: 0.0000e+00 - val_false_negatives: 7.0000\n",
      "Epoch 7/100\n",
      "1/1 [==============================] - 4s 4s/step - loss: 0.6501 - binary_accuracy: 0.7389 - true_positives: 54.0000 - true_negatives: 79.0000 - false_positives: 5.0000 - false_negatives: 42.0000 - val_loss: 0.9881 - val_binary_accuracy: 0.8500 - val_true_positives: 10.0000 - val_true_negatives: 7.0000 - val_false_positives: 3.0000 - val_false_negatives: 0.0000e+00\n",
      "Epoch 8/100\n",
      "1/1 [==============================] - 5s 5s/step - loss: 1.0324 - binary_accuracy: 0.8444 - true_positives: 94.0000 - true_negatives: 58.0000 - false_positives: 26.0000 - false_negatives: 2.0000 - val_loss: 0.8420 - val_binary_accuracy: 0.8500 - val_true_positives: 10.0000 - val_true_negatives: 7.0000 - val_false_positives: 3.0000 - val_false_negatives: 0.0000e+00\n",
      "Epoch 9/100\n",
      "1/1 [==============================] - 4s 4s/step - loss: 0.9728 - binary_accuracy: 0.8500 - true_positives: 96.0000 - true_negatives: 57.0000 - false_positives: 27.0000 - false_negatives: 0.0000e+00 - val_loss: 0.2526 - val_binary_accuracy: 0.9000 - val_true_positives: 10.0000 - val_true_negatives: 8.0000 - val_false_positives: 2.0000 - val_false_negatives: 0.0000e+00\n",
      "Epoch 10/100\n",
      "1/1 [==============================] - 4s 4s/step - loss: 0.3650 - binary_accuracy: 0.8944 - true_positives: 92.0000 - true_negatives: 69.0000 - false_positives: 15.0000 - false_negatives: 4.0000 - val_loss: 0.4441 - val_binary_accuracy: 0.6500 - val_true_positives: 3.0000 - val_true_negatives: 10.0000 - val_false_positives: 0.0000e+00 - val_false_negatives: 7.0000\n",
      "Epoch 11/100\n",
      "1/1 [==============================] - 4s 4s/step - loss: 1.0381 - binary_accuracy: 0.6056 - true_positives: 27.0000 - true_negatives: 82.0000 - false_positives: 2.0000 - false_negatives: 69.0000 - val_loss: 0.1709 - val_binary_accuracy: 0.9000 - val_true_positives: 10.0000 - val_true_negatives: 8.0000 - val_false_positives: 2.0000 - val_false_negatives: 0.0000e+00\n",
      "Epoch 12/100\n",
      "1/1 [==============================] - 4s 4s/step - loss: 0.2906 - binary_accuracy: 0.9278 - true_positives: 92.0000 - true_negatives: 75.0000 - false_positives: 9.0000 - false_negatives: 4.0000 - val_loss: 0.2928 - val_binary_accuracy: 0.9000 - val_true_positives: 10.0000 - val_true_negatives: 8.0000 - val_false_positives: 2.0000 - val_false_negatives: 0.0000e+00\n",
      "Epoch 13/100\n",
      "1/1 [==============================] - 4s 4s/step - loss: 0.3334 - binary_accuracy: 0.9167 - true_positives: 93.0000 - true_negatives: 72.0000 - false_positives: 12.0000 - false_negatives: 3.0000 - val_loss: 0.2988 - val_binary_accuracy: 0.9000 - val_true_positives: 10.0000 - val_true_negatives: 8.0000 - val_false_positives: 2.0000 - val_false_negatives: 0.0000e+00\n",
      "Epoch 14/100\n",
      "1/1 [==============================] - 4s 4s/step - loss: 0.3051 - binary_accuracy: 0.9222 - true_positives: 94.0000 - true_negatives: 72.0000 - false_positives: 12.0000 - false_negatives: 2.0000 - val_loss: 0.1926 - val_binary_accuracy: 0.9500 - val_true_positives: 10.0000 - val_true_negatives: 9.0000 - val_false_positives: 1.0000 - val_false_negatives: 0.0000e+00\n",
      "Epoch 15/100\n",
      "1/1 [==============================] - 4s 4s/step - loss: 0.2265 - binary_accuracy: 0.9389 - true_positives: 94.0000 - true_negatives: 75.0000 - false_positives: 9.0000 - false_negatives: 2.0000 - val_loss: 0.1251 - val_binary_accuracy: 0.9500 - val_true_positives: 10.0000 - val_true_negatives: 9.0000 - val_false_positives: 1.0000 - val_false_negatives: 0.0000e+00\n",
      "Epoch 16/100\n",
      "1/1 [==============================] - 4s 4s/step - loss: 0.2768 - binary_accuracy: 0.9500 - true_positives: 90.0000 - true_negatives: 81.0000 - false_positives: 3.0000 - false_negatives: 6.0000 - val_loss: 0.3458 - val_binary_accuracy: 0.9000 - val_true_positives: 9.0000 - val_true_negatives: 9.0000 - val_false_positives: 1.0000 - val_false_negatives: 1.0000\n",
      "Epoch 17/100\n",
      "1/1 [==============================] - 4s 4s/step - loss: 0.2966 - binary_accuracy: 0.9500 - true_positives: 89.0000 - true_negatives: 82.0000 - false_positives: 2.0000 - false_negatives: 7.0000 - val_loss: 0.3417 - val_binary_accuracy: 0.8500 - val_true_positives: 10.0000 - val_true_negatives: 7.0000 - val_false_positives: 3.0000 - val_false_negatives: 0.0000e+00\n",
      "Epoch 18/100\n",
      "1/1 [==============================] - 4s 4s/step - loss: 0.1980 - binary_accuracy: 0.9333 - true_positives: 94.0000 - true_negatives: 74.0000 - false_positives: 10.0000 - false_negatives: 2.0000 - val_loss: 0.5131 - val_binary_accuracy: 0.8500 - val_true_positives: 10.0000 - val_true_negatives: 7.0000 - val_false_positives: 3.0000 - val_false_negatives: 0.0000e+00\n",
      "Epoch 19/100\n",
      "1/1 [==============================] - 4s 4s/step - loss: 0.3729 - binary_accuracy: 0.8944 - true_positives: 96.0000 - true_negatives: 65.0000 - false_positives: 19.0000 - false_negatives: 0.0000e+00 - val_loss: 0.2599 - val_binary_accuracy: 0.8500 - val_true_positives: 10.0000 - val_true_negatives: 7.0000 - val_false_positives: 3.0000 - val_false_negatives: 0.0000e+00\n",
      "Epoch 20/100\n",
      "1/1 [==============================] - 4s 4s/step - loss: 0.1998 - binary_accuracy: 0.9389 - true_positives: 96.0000 - true_negatives: 73.0000 - false_positives: 11.0000 - false_negatives: 0.0000e+00 - val_loss: 0.1180 - val_binary_accuracy: 0.9500 - val_true_positives: 10.0000 - val_true_negatives: 9.0000 - val_false_positives: 1.0000 - val_false_negatives: 0.0000e+00\n",
      "Epoch 21/100\n",
      "1/1 [==============================] - 4s 4s/step - loss: 0.1151 - binary_accuracy: 0.9500 - true_positives: 94.0000 - true_negatives: 77.0000 - false_positives: 7.0000 - false_negatives: 2.0000 - val_loss: 0.2296 - val_binary_accuracy: 0.9500 - val_true_positives: 9.0000 - val_true_negatives: 10.0000 - val_false_positives: 0.0000e+00 - val_false_negatives: 1.0000\n",
      "Epoch 22/100\n"
     ]
    },
    {
     "name": "stdout",
     "output_type": "stream",
     "text": [
      "1/1 [==============================] - 4s 4s/step - loss: 0.1753 - binary_accuracy: 0.9278 - true_positives: 83.0000 - true_negatives: 84.0000 - false_positives: 0.0000e+00 - false_negatives: 13.0000 - val_loss: 0.2273 - val_binary_accuracy: 0.9000 - val_true_positives: 9.0000 - val_true_negatives: 9.0000 - val_false_positives: 1.0000 - val_false_negatives: 1.0000\n",
      "Epoch 23/100\n",
      "1/1 [==============================] - 4s 4s/step - loss: 0.1263 - binary_accuracy: 0.9278 - true_positives: 85.0000 - true_negatives: 82.0000 - false_positives: 2.0000 - false_negatives: 11.0000 - val_loss: 0.1845 - val_binary_accuracy: 0.9000 - val_true_positives: 9.0000 - val_true_negatives: 9.0000 - val_false_positives: 1.0000 - val_false_negatives: 1.0000\n",
      "Epoch 24/100\n",
      "1/1 [==============================] - 4s 4s/step - loss: 0.0885 - binary_accuracy: 0.9611 - true_positives: 91.0000 - true_negatives: 82.0000 - false_positives: 2.0000 - false_negatives: 5.0000 - val_loss: 0.2072 - val_binary_accuracy: 0.9500 - val_true_positives: 10.0000 - val_true_negatives: 9.0000 - val_false_positives: 1.0000 - val_false_negatives: 0.0000e+00\n",
      "Epoch 25/100\n",
      "1/1 [==============================] - 4s 4s/step - loss: 0.1322 - binary_accuracy: 0.9722 - true_positives: 95.0000 - true_negatives: 80.0000 - false_positives: 4.0000 - false_negatives: 1.0000 - val_loss: 0.2531 - val_binary_accuracy: 0.9500 - val_true_positives: 10.0000 - val_true_negatives: 9.0000 - val_false_positives: 1.0000 - val_false_negatives: 0.0000e+00\n",
      "Epoch 26/100\n",
      "1/1 [==============================] - 4s 4s/step - loss: 0.1335 - binary_accuracy: 0.9722 - true_positives: 96.0000 - true_negatives: 79.0000 - false_positives: 5.0000 - false_negatives: 0.0000e+00 - val_loss: 0.3134 - val_binary_accuracy: 0.9000 - val_true_positives: 9.0000 - val_true_negatives: 9.0000 - val_false_positives: 1.0000 - val_false_negatives: 1.0000\n",
      "Epoch 27/100\n",
      "1/1 [==============================] - 4s 4s/step - loss: 0.1368 - binary_accuracy: 0.9778 - true_positives: 96.0000 - true_negatives: 80.0000 - false_positives: 4.0000 - false_negatives: 0.0000e+00 - val_loss: 0.4944 - val_binary_accuracy: 0.9000 - val_true_positives: 9.0000 - val_true_negatives: 9.0000 - val_false_positives: 1.0000 - val_false_negatives: 1.0000\n",
      "Epoch 28/100\n",
      "1/1 [==============================] - 4s 4s/step - loss: 0.0807 - binary_accuracy: 0.9778 - true_positives: 95.0000 - true_negatives: 81.0000 - false_positives: 3.0000 - false_negatives: 1.0000 - val_loss: 0.7868 - val_binary_accuracy: 0.9000 - val_true_positives: 9.0000 - val_true_negatives: 9.0000 - val_false_positives: 1.0000 - val_false_negatives: 1.0000\n",
      "Epoch 29/100\n",
      "1/1 [==============================] - 4s 4s/step - loss: 0.0898 - binary_accuracy: 0.9778 - true_positives: 95.0000 - true_negatives: 81.0000 - false_positives: 3.0000 - false_negatives: 1.0000 - val_loss: 1.2174 - val_binary_accuracy: 0.9000 - val_true_positives: 9.0000 - val_true_negatives: 9.0000 - val_false_positives: 1.0000 - val_false_negatives: 1.0000\n",
      "Epoch 30/100\n",
      "1/1 [==============================] - 4s 4s/step - loss: 0.0595 - binary_accuracy: 0.9778 - true_positives: 92.0000 - true_negatives: 84.0000 - false_positives: 0.0000e+00 - false_negatives: 4.0000 - val_loss: 1.5632 - val_binary_accuracy: 0.9000 - val_true_positives: 9.0000 - val_true_negatives: 9.0000 - val_false_positives: 1.0000 - val_false_negatives: 1.0000\n",
      "Epoch 31/100\n",
      "1/1 [==============================] - 4s 4s/step - loss: 0.1219 - binary_accuracy: 0.9556 - true_positives: 88.0000 - true_negatives: 84.0000 - false_positives: 0.0000e+00 - false_negatives: 8.0000 - val_loss: 1.6041 - val_binary_accuracy: 0.9000 - val_true_positives: 9.0000 - val_true_negatives: 9.0000 - val_false_positives: 1.0000 - val_false_negatives: 1.0000\n",
      "Epoch 32/100\n",
      "1/1 [==============================] - 4s 4s/step - loss: 0.0534 - binary_accuracy: 0.9889 - true_positives: 94.0000 - true_negatives: 84.0000 - false_positives: 0.0000e+00 - false_negatives: 2.0000 - val_loss: 1.5330 - val_binary_accuracy: 0.9000 - val_true_positives: 9.0000 - val_true_negatives: 9.0000 - val_false_positives: 1.0000 - val_false_negatives: 1.0000\n",
      "Epoch 33/100\n",
      "1/1 [==============================] - 4s 4s/step - loss: 0.0224 - binary_accuracy: 0.9889 - true_positives: 95.0000 - true_negatives: 83.0000 - false_positives: 1.0000 - false_negatives: 1.0000 - val_loss: 1.4430 - val_binary_accuracy: 0.9000 - val_true_positives: 9.0000 - val_true_negatives: 9.0000 - val_false_positives: 1.0000 - val_false_negatives: 1.0000\n",
      "Epoch 34/100\n",
      "1/1 [==============================] - 4s 4s/step - loss: 0.1093 - binary_accuracy: 0.9722 - true_positives: 94.0000 - true_negatives: 81.0000 - false_positives: 3.0000 - false_negatives: 2.0000 - val_loss: 1.4220 - val_binary_accuracy: 0.9000 - val_true_positives: 9.0000 - val_true_negatives: 9.0000 - val_false_positives: 1.0000 - val_false_negatives: 1.0000\n",
      "Epoch 35/100\n",
      "1/1 [==============================] - 4s 4s/step - loss: 0.0782 - binary_accuracy: 0.9722 - true_positives: 95.0000 - true_negatives: 80.0000 - false_positives: 4.0000 - false_negatives: 1.0000 - val_loss: 1.5025 - val_binary_accuracy: 0.9000 - val_true_positives: 9.0000 - val_true_negatives: 9.0000 - val_false_positives: 1.0000 - val_false_negatives: 1.0000\n",
      "Epoch 36/100\n",
      "1/1 [==============================] - 4s 4s/step - loss: 0.1030 - binary_accuracy: 0.9778 - true_positives: 96.0000 - true_negatives: 80.0000 - false_positives: 4.0000 - false_negatives: 0.0000e+00 - val_loss: 1.7140 - val_binary_accuracy: 0.9000 - val_true_positives: 9.0000 - val_true_negatives: 9.0000 - val_false_positives: 1.0000 - val_false_negatives: 1.0000\n",
      "Epoch 37/100\n",
      "1/1 [==============================] - 4s 4s/step - loss: 0.0776 - binary_accuracy: 0.9778 - true_positives: 96.0000 - true_negatives: 80.0000 - false_positives: 4.0000 - false_negatives: 0.0000e+00 - val_loss: 2.1376 - val_binary_accuracy: 0.9000 - val_true_positives: 9.0000 - val_true_negatives: 9.0000 - val_false_positives: 1.0000 - val_false_negatives: 1.0000\n",
      "Epoch 38/100\n",
      "1/1 [==============================] - 4s 4s/step - loss: 0.0775 - binary_accuracy: 0.9889 - true_positives: 96.0000 - true_negatives: 82.0000 - false_positives: 2.0000 - false_negatives: 0.0000e+00 - val_loss: 2.5579 - val_binary_accuracy: 0.9000 - val_true_positives: 9.0000 - val_true_negatives: 9.0000 - val_false_positives: 1.0000 - val_false_negatives: 1.0000\n",
      "Epoch 39/100\n",
      "1/1 [==============================] - 4s 4s/step - loss: 0.0136 - binary_accuracy: 1.0000 - true_positives: 96.0000 - true_negatives: 84.0000 - false_positives: 0.0000e+00 - false_negatives: 0.0000e+00 - val_loss: 2.9398 - val_binary_accuracy: 0.9000 - val_true_positives: 9.0000 - val_true_negatives: 9.0000 - val_false_positives: 1.0000 - val_false_negatives: 1.0000\n",
      "Epoch 40/100\n",
      "1/1 [==============================] - 4s 4s/step - loss: 0.0649 - binary_accuracy: 0.9778 - true_positives: 94.0000 - true_negatives: 82.0000 - false_positives: 2.0000 - false_negatives: 2.0000 - val_loss: 3.2136 - val_binary_accuracy: 0.9000 - val_true_positives: 9.0000 - val_true_negatives: 9.0000 - val_false_positives: 1.0000 - val_false_negatives: 1.0000\n",
      "Epoch 41/100\n",
      "1/1 [==============================] - 4s 4s/step - loss: 0.0741 - binary_accuracy: 0.9833 - true_positives: 93.0000 - true_negatives: 84.0000 - false_positives: 0.0000e+00 - false_negatives: 3.0000 - val_loss: 3.2475 - val_binary_accuracy: 0.9000 - val_true_positives: 9.0000 - val_true_negatives: 9.0000 - val_false_positives: 1.0000 - val_false_negatives: 1.0000\n",
      "Epoch 42/100\n",
      "1/1 [==============================] - 4s 4s/step - loss: 0.0622 - binary_accuracy: 0.9778 - true_positives: 93.0000 - true_negatives: 83.0000 - false_positives: 1.0000 - false_negatives: 3.0000 - val_loss: 3.2003 - val_binary_accuracy: 0.9000 - val_true_positives: 9.0000 - val_true_negatives: 9.0000 - val_false_positives: 1.0000 - val_false_negatives: 1.0000\n",
      "Epoch 43/100\n",
      "1/1 [==============================] - 4s 4s/step - loss: 0.0533 - binary_accuracy: 0.9889 - true_positives: 95.0000 - true_negatives: 83.0000 - false_positives: 1.0000 - false_negatives: 1.0000 - val_loss: 3.1285 - val_binary_accuracy: 0.9000 - val_true_positives: 9.0000 - val_true_negatives: 9.0000 - val_false_positives: 1.0000 - val_false_negatives: 1.0000\n"
     ]
    },
    {
     "name": "stdout",
     "output_type": "stream",
     "text": [
      "Epoch 44/100\n",
      "1/1 [==============================] - 4s 4s/step - loss: 0.0417 - binary_accuracy: 0.9944 - true_positives: 96.0000 - true_negatives: 83.0000 - false_positives: 1.0000 - false_negatives: 0.0000e+00 - val_loss: 3.0334 - val_binary_accuracy: 0.9000 - val_true_positives: 9.0000 - val_true_negatives: 9.0000 - val_false_positives: 1.0000 - val_false_negatives: 1.0000\n",
      "Epoch 45/100\n",
      "1/1 [==============================] - 4s 4s/step - loss: 0.0390 - binary_accuracy: 0.9833 - true_positives: 95.0000 - true_negatives: 82.0000 - false_positives: 2.0000 - false_negatives: 1.0000 - val_loss: 2.9634 - val_binary_accuracy: 0.9000 - val_true_positives: 9.0000 - val_true_negatives: 9.0000 - val_false_positives: 1.0000 - val_false_negatives: 1.0000\n",
      "Epoch 46/100\n",
      "1/1 [==============================] - 4s 4s/step - loss: 0.0414 - binary_accuracy: 0.9833 - true_positives: 96.0000 - true_negatives: 81.0000 - false_positives: 3.0000 - false_negatives: 0.0000e+00 - val_loss: 2.9687 - val_binary_accuracy: 0.9000 - val_true_positives: 9.0000 - val_true_negatives: 9.0000 - val_false_positives: 1.0000 - val_false_negatives: 1.0000\n",
      "Epoch 47/100\n",
      "1/1 [==============================] - 4s 4s/step - loss: 0.0382 - binary_accuracy: 0.9944 - true_positives: 96.0000 - true_negatives: 83.0000 - false_positives: 1.0000 - false_negatives: 0.0000e+00 - val_loss: 2.9995 - val_binary_accuracy: 0.9000 - val_true_positives: 9.0000 - val_true_negatives: 9.0000 - val_false_positives: 1.0000 - val_false_negatives: 1.0000\n",
      "Epoch 48/100\n",
      "1/1 [==============================] - 4s 4s/step - loss: 0.0301 - binary_accuracy: 0.9889 - true_positives: 96.0000 - true_negatives: 82.0000 - false_positives: 2.0000 - false_negatives: 0.0000e+00 - val_loss: 3.0676 - val_binary_accuracy: 0.9000 - val_true_positives: 9.0000 - val_true_negatives: 9.0000 - val_false_positives: 1.0000 - val_false_negatives: 1.0000\n",
      "Epoch 49/100\n",
      "1/1 [==============================] - 4s 4s/step - loss: 0.0207 - binary_accuracy: 0.9889 - true_positives: 96.0000 - true_negatives: 82.0000 - false_positives: 2.0000 - false_negatives: 0.0000e+00 - val_loss: 3.1600 - val_binary_accuracy: 0.9000 - val_true_positives: 9.0000 - val_true_negatives: 9.0000 - val_false_positives: 1.0000 - val_false_negatives: 1.0000\n",
      "Epoch 50/100\n",
      "1/1 [==============================] - 4s 4s/step - loss: 0.0308 - binary_accuracy: 0.9889 - true_positives: 95.0000 - true_negatives: 83.0000 - false_positives: 1.0000 - false_negatives: 1.0000 - val_loss: 3.2965 - val_binary_accuracy: 0.9000 - val_true_positives: 9.0000 - val_true_negatives: 9.0000 - val_false_positives: 1.0000 - val_false_negatives: 1.0000\n",
      "Epoch 51/100\n",
      "1/1 [==============================] - 4s 4s/step - loss: 0.0134 - binary_accuracy: 1.0000 - true_positives: 96.0000 - true_negatives: 84.0000 - false_positives: 0.0000e+00 - false_negatives: 0.0000e+00 - val_loss: 3.4439 - val_binary_accuracy: 0.9000 - val_true_positives: 9.0000 - val_true_negatives: 9.0000 - val_false_positives: 1.0000 - val_false_negatives: 1.0000\n",
      "Epoch 52/100\n",
      "1/1 [==============================] - 4s 4s/step - loss: 0.0301 - binary_accuracy: 0.9833 - true_positives: 95.0000 - true_negatives: 82.0000 - false_positives: 2.0000 - false_negatives: 1.0000 - val_loss: 3.5547 - val_binary_accuracy: 0.9000 - val_true_positives: 9.0000 - val_true_negatives: 9.0000 - val_false_positives: 1.0000 - val_false_negatives: 1.0000\n",
      "Epoch 53/100\n",
      "1/1 [==============================] - 4s 4s/step - loss: 0.0244 - binary_accuracy: 0.9944 - true_positives: 95.0000 - true_negatives: 84.0000 - false_positives: 0.0000e+00 - false_negatives: 1.0000 - val_loss: 3.6763 - val_binary_accuracy: 0.9000 - val_true_positives: 9.0000 - val_true_negatives: 9.0000 - val_false_positives: 1.0000 - val_false_negatives: 1.0000\n",
      "Epoch 54/100\n",
      "1/1 [==============================] - 4s 4s/step - loss: 0.0259 - binary_accuracy: 0.9889 - true_positives: 95.0000 - true_negatives: 83.0000 - false_positives: 1.0000 - false_negatives: 1.0000 - val_loss: 3.7986 - val_binary_accuracy: 0.9000 - val_true_positives: 9.0000 - val_true_negatives: 9.0000 - val_false_positives: 1.0000 - val_false_negatives: 1.0000\n",
      "Epoch 55/100\n",
      "1/1 [==============================] - 4s 4s/step - loss: 0.0337 - binary_accuracy: 0.9833 - true_positives: 95.0000 - true_negatives: 82.0000 - false_positives: 2.0000 - false_negatives: 1.0000 - val_loss: 3.9125 - val_binary_accuracy: 0.9000 - val_true_positives: 9.0000 - val_true_negatives: 9.0000 - val_false_positives: 1.0000 - val_false_negatives: 1.0000\n",
      "Epoch 56/100\n",
      "1/1 [==============================] - 4s 4s/step - loss: 0.0632 - binary_accuracy: 0.9889 - true_positives: 94.0000 - true_negatives: 84.0000 - false_positives: 0.0000e+00 - false_negatives: 2.0000 - val_loss: 3.7776 - val_binary_accuracy: 0.9000 - val_true_positives: 9.0000 - val_true_negatives: 9.0000 - val_false_positives: 1.0000 - val_false_negatives: 1.0000\n",
      "Epoch 57/100\n",
      "1/1 [==============================] - 4s 4s/step - loss: 0.0189 - binary_accuracy: 0.9944 - true_positives: 95.0000 - true_negatives: 84.0000 - false_positives: 0.0000e+00 - false_negatives: 1.0000 - val_loss: 3.5493 - val_binary_accuracy: 0.9000 - val_true_positives: 9.0000 - val_true_negatives: 9.0000 - val_false_positives: 1.0000 - val_false_negatives: 1.0000\n",
      "Epoch 58/100\n",
      "1/1 [==============================] - 4s 4s/step - loss: 0.0147 - binary_accuracy: 0.9944 - true_positives: 95.0000 - true_negatives: 84.0000 - false_positives: 0.0000e+00 - false_negatives: 1.0000 - val_loss: 3.3216 - val_binary_accuracy: 0.9000 - val_true_positives: 9.0000 - val_true_negatives: 9.0000 - val_false_positives: 1.0000 - val_false_negatives: 1.0000\n",
      "Epoch 59/100\n",
      "1/1 [==============================] - 4s 4s/step - loss: 0.0184 - binary_accuracy: 0.9944 - true_positives: 96.0000 - true_negatives: 83.0000 - false_positives: 1.0000 - false_negatives: 0.0000e+00 - val_loss: 3.1941 - val_binary_accuracy: 0.9000 - val_true_positives: 9.0000 - val_true_negatives: 9.0000 - val_false_positives: 1.0000 - val_false_negatives: 1.0000\n",
      "Epoch 60/100\n",
      "1/1 [==============================] - 4s 4s/step - loss: 0.0195 - binary_accuracy: 0.9944 - true_positives: 96.0000 - true_negatives: 83.0000 - false_positives: 1.0000 - false_negatives: 0.0000e+00 - val_loss: 3.1593 - val_binary_accuracy: 0.9000 - val_true_positives: 9.0000 - val_true_negatives: 9.0000 - val_false_positives: 1.0000 - val_false_negatives: 1.0000\n",
      "Epoch 61/100\n",
      "1/1 [==============================] - 4s 4s/step - loss: 0.0862 - binary_accuracy: 0.9833 - true_positives: 96.0000 - true_negatives: 81.0000 - false_positives: 3.0000 - false_negatives: 0.0000e+00 - val_loss: 3.4043 - val_binary_accuracy: 0.9000 - val_true_positives: 9.0000 - val_true_negatives: 9.0000 - val_false_positives: 1.0000 - val_false_negatives: 1.0000\n",
      "Epoch 62/100\n",
      "1/1 [==============================] - 4s 4s/step - loss: 0.0156 - binary_accuracy: 0.9944 - true_positives: 96.0000 - true_negatives: 83.0000 - false_positives: 1.0000 - false_negatives: 0.0000e+00 - val_loss: 3.6679 - val_binary_accuracy: 0.9000 - val_true_positives: 9.0000 - val_true_negatives: 9.0000 - val_false_positives: 1.0000 - val_false_negatives: 1.0000\n",
      "Epoch 63/100\n",
      "1/1 [==============================] - 4s 4s/step - loss: 0.0037 - binary_accuracy: 1.0000 - true_positives: 96.0000 - true_negatives: 84.0000 - false_positives: 0.0000e+00 - false_negatives: 0.0000e+00 - val_loss: 3.9011 - val_binary_accuracy: 0.9000 - val_true_positives: 9.0000 - val_true_negatives: 9.0000 - val_false_positives: 1.0000 - val_false_negatives: 1.0000\n",
      "Epoch 64/100\n",
      "1/1 [==============================] - 4s 4s/step - loss: 0.0268 - binary_accuracy: 0.9944 - true_positives: 96.0000 - true_negatives: 83.0000 - false_positives: 1.0000 - false_negatives: 0.0000e+00 - val_loss: 4.1519 - val_binary_accuracy: 0.9000 - val_true_positives: 9.0000 - val_true_negatives: 9.0000 - val_false_positives: 1.0000 - val_false_negatives: 1.0000\n",
      "Epoch 65/100\n",
      "1/1 [==============================] - 4s 4s/step - loss: 0.0562 - binary_accuracy: 0.9833 - true_positives: 94.0000 - true_negatives: 83.0000 - false_positives: 1.0000 - false_negatives: 2.0000 - val_loss: 4.3490 - val_binary_accuracy: 0.8500 - val_true_positives: 8.0000 - val_true_negatives: 9.0000 - val_false_positives: 1.0000 - val_false_negatives: 2.0000\n"
     ]
    },
    {
     "name": "stdout",
     "output_type": "stream",
     "text": [
      "Epoch 66/100\n",
      "1/1 [==============================] - 4s 4s/step - loss: 0.0605 - binary_accuracy: 0.9778 - true_positives: 92.0000 - true_negatives: 84.0000 - false_positives: 0.0000e+00 - false_negatives: 4.0000 - val_loss: 4.2424 - val_binary_accuracy: 0.9000 - val_true_positives: 9.0000 - val_true_negatives: 9.0000 - val_false_positives: 1.0000 - val_false_negatives: 1.0000\n",
      "Epoch 67/100\n",
      "1/1 [==============================] - 4s 4s/step - loss: 0.0272 - binary_accuracy: 0.9889 - true_positives: 94.0000 - true_negatives: 84.0000 - false_positives: 0.0000e+00 - false_negatives: 2.0000 - val_loss: 3.9836 - val_binary_accuracy: 0.9000 - val_true_positives: 9.0000 - val_true_negatives: 9.0000 - val_false_positives: 1.0000 - val_false_negatives: 1.0000\n",
      "Epoch 68/100\n",
      "1/1 [==============================] - 4s 4s/step - loss: 0.0416 - binary_accuracy: 0.9944 - true_positives: 96.0000 - true_negatives: 83.0000 - false_positives: 1.0000 - false_negatives: 0.0000e+00 - val_loss: 3.7217 - val_binary_accuracy: 0.9000 - val_true_positives: 9.0000 - val_true_negatives: 9.0000 - val_false_positives: 1.0000 - val_false_negatives: 1.0000\n",
      "Epoch 69/100\n",
      "1/1 [==============================] - 4s 4s/step - loss: 0.0597 - binary_accuracy: 0.9889 - true_positives: 96.0000 - true_negatives: 82.0000 - false_positives: 2.0000 - false_negatives: 0.0000e+00 - val_loss: 3.5135 - val_binary_accuracy: 0.9000 - val_true_positives: 9.0000 - val_true_negatives: 9.0000 - val_false_positives: 1.0000 - val_false_negatives: 1.0000\n",
      "Epoch 70/100\n",
      "1/1 [==============================] - 4s 4s/step - loss: 0.0305 - binary_accuracy: 0.9889 - true_positives: 96.0000 - true_negatives: 82.0000 - false_positives: 2.0000 - false_negatives: 0.0000e+00 - val_loss: 3.3783 - val_binary_accuracy: 0.9000 - val_true_positives: 9.0000 - val_true_negatives: 9.0000 - val_false_positives: 1.0000 - val_false_negatives: 1.0000\n",
      "Epoch 71/100\n",
      "1/1 [==============================] - 4s 4s/step - loss: 0.0092 - binary_accuracy: 0.9944 - true_positives: 96.0000 - true_negatives: 83.0000 - false_positives: 1.0000 - false_negatives: 0.0000e+00 - val_loss: 3.3178 - val_binary_accuracy: 0.9000 - val_true_positives: 9.0000 - val_true_negatives: 9.0000 - val_false_positives: 1.0000 - val_false_negatives: 1.0000\n",
      "Epoch 72/100\n",
      "1/1 [==============================] - 4s 4s/step - loss: 0.0014 - binary_accuracy: 1.0000 - true_positives: 96.0000 - true_negatives: 84.0000 - false_positives: 0.0000e+00 - false_negatives: 0.0000e+00 - val_loss: 3.2652 - val_binary_accuracy: 0.9000 - val_true_positives: 9.0000 - val_true_negatives: 9.0000 - val_false_positives: 1.0000 - val_false_negatives: 1.0000\n",
      "Epoch 73/100\n",
      "1/1 [==============================] - 4s 4s/step - loss: 0.0343 - binary_accuracy: 0.9889 - true_positives: 96.0000 - true_negatives: 82.0000 - false_positives: 2.0000 - false_negatives: 0.0000e+00 - val_loss: 3.3845 - val_binary_accuracy: 0.9000 - val_true_positives: 9.0000 - val_true_negatives: 9.0000 - val_false_positives: 1.0000 - val_false_negatives: 1.0000\n",
      "Epoch 74/100\n",
      "1/1 [==============================] - 4s 4s/step - loss: 0.0034 - binary_accuracy: 1.0000 - true_positives: 96.0000 - true_negatives: 84.0000 - false_positives: 0.0000e+00 - false_negatives: 0.0000e+00 - val_loss: 3.5237 - val_binary_accuracy: 0.9000 - val_true_positives: 9.0000 - val_true_negatives: 9.0000 - val_false_positives: 1.0000 - val_false_negatives: 1.0000\n",
      "Epoch 75/100\n",
      "1/1 [==============================] - 4s 4s/step - loss: 0.0333 - binary_accuracy: 0.9889 - true_positives: 95.0000 - true_negatives: 83.0000 - false_positives: 1.0000 - false_negatives: 1.0000 - val_loss: 3.6767 - val_binary_accuracy: 0.9000 - val_true_positives: 9.0000 - val_true_negatives: 9.0000 - val_false_positives: 1.0000 - val_false_negatives: 1.0000\n",
      "Epoch 76/100\n",
      "1/1 [==============================] - 4s 4s/step - loss: 0.0140 - binary_accuracy: 0.9944 - true_positives: 95.0000 - true_negatives: 84.0000 - false_positives: 0.0000e+00 - false_negatives: 1.0000 - val_loss: 3.7879 - val_binary_accuracy: 0.9000 - val_true_positives: 9.0000 - val_true_negatives: 9.0000 - val_false_positives: 1.0000 - val_false_negatives: 1.0000\n",
      "Epoch 77/100\n",
      "1/1 [==============================] - 4s 4s/step - loss: 0.0204 - binary_accuracy: 0.9944 - true_positives: 95.0000 - true_negatives: 84.0000 - false_positives: 0.0000e+00 - false_negatives: 1.0000 - val_loss: 3.8226 - val_binary_accuracy: 0.9000 - val_true_positives: 9.0000 - val_true_negatives: 9.0000 - val_false_positives: 1.0000 - val_false_negatives: 1.0000\n",
      "Epoch 78/100\n",
      "1/1 [==============================] - 4s 4s/step - loss: 0.0075 - binary_accuracy: 0.9944 - true_positives: 95.0000 - true_negatives: 84.0000 - false_positives: 0.0000e+00 - false_negatives: 1.0000 - val_loss: 3.8133 - val_binary_accuracy: 0.9000 - val_true_positives: 9.0000 - val_true_negatives: 9.0000 - val_false_positives: 1.0000 - val_false_negatives: 1.0000\n",
      "Epoch 79/100\n",
      "1/1 [==============================] - 4s 4s/step - loss: 0.0096 - binary_accuracy: 0.9944 - true_positives: 95.0000 - true_negatives: 84.0000 - false_positives: 0.0000e+00 - false_negatives: 1.0000 - val_loss: 3.7992 - val_binary_accuracy: 0.9000 - val_true_positives: 9.0000 - val_true_negatives: 9.0000 - val_false_positives: 1.0000 - val_false_negatives: 1.0000\n",
      "Epoch 80/100\n",
      "1/1 [==============================] - 4s 4s/step - loss: 0.0015 - binary_accuracy: 1.0000 - true_positives: 96.0000 - true_negatives: 84.0000 - false_positives: 0.0000e+00 - false_negatives: 0.0000e+00 - val_loss: 3.7873 - val_binary_accuracy: 0.9000 - val_true_positives: 9.0000 - val_true_negatives: 9.0000 - val_false_positives: 1.0000 - val_false_negatives: 1.0000\n",
      "Epoch 81/100\n",
      "1/1 [==============================] - 4s 4s/step - loss: 0.0241 - binary_accuracy: 0.9944 - true_positives: 96.0000 - true_negatives: 83.0000 - false_positives: 1.0000 - false_negatives: 0.0000e+00 - val_loss: 3.8180 - val_binary_accuracy: 0.9000 - val_true_positives: 9.0000 - val_true_negatives: 9.0000 - val_false_positives: 1.0000 - val_false_negatives: 1.0000\n",
      "Epoch 82/100\n",
      "1/1 [==============================] - 4s 4s/step - loss: 0.0086 - binary_accuracy: 1.0000 - true_positives: 96.0000 - true_negatives: 84.0000 - false_positives: 0.0000e+00 - false_negatives: 0.0000e+00 - val_loss: 3.8373 - val_binary_accuracy: 0.9000 - val_true_positives: 9.0000 - val_true_negatives: 9.0000 - val_false_positives: 1.0000 - val_false_negatives: 1.0000\n",
      "Epoch 83/100\n",
      "1/1 [==============================] - 4s 4s/step - loss: 0.0069 - binary_accuracy: 1.0000 - true_positives: 96.0000 - true_negatives: 84.0000 - false_positives: 0.0000e+00 - false_negatives: 0.0000e+00 - val_loss: 3.8390 - val_binary_accuracy: 0.9000 - val_true_positives: 9.0000 - val_true_negatives: 9.0000 - val_false_positives: 1.0000 - val_false_negatives: 1.0000\n",
      "Epoch 84/100\n",
      "1/1 [==============================] - 4s 4s/step - loss: 0.0369 - binary_accuracy: 0.9889 - true_positives: 96.0000 - true_negatives: 82.0000 - false_positives: 2.0000 - false_negatives: 0.0000e+00 - val_loss: 3.8191 - val_binary_accuracy: 0.9000 - val_true_positives: 9.0000 - val_true_negatives: 9.0000 - val_false_positives: 1.0000 - val_false_negatives: 1.0000\n",
      "Epoch 85/100\n",
      "1/1 [==============================] - 4s 4s/step - loss: 0.0035 - binary_accuracy: 1.0000 - true_positives: 96.0000 - true_negatives: 84.0000 - false_positives: 0.0000e+00 - false_negatives: 0.0000e+00 - val_loss: 3.8470 - val_binary_accuracy: 0.9000 - val_true_positives: 9.0000 - val_true_negatives: 9.0000 - val_false_positives: 1.0000 - val_false_negatives: 1.0000\n",
      "Epoch 86/100\n",
      "1/1 [==============================] - 4s 4s/step - loss: 0.0024 - binary_accuracy: 1.0000 - true_positives: 96.0000 - true_negatives: 84.0000 - false_positives: 0.0000e+00 - false_negatives: 0.0000e+00 - val_loss: 3.8672 - val_binary_accuracy: 0.9000 - val_true_positives: 9.0000 - val_true_negatives: 9.0000 - val_false_positives: 1.0000 - val_false_negatives: 1.0000\n",
      "Epoch 87/100\n"
     ]
    },
    {
     "name": "stdout",
     "output_type": "stream",
     "text": [
      "1/1 [==============================] - 4s 4s/step - loss: 0.0055 - binary_accuracy: 1.0000 - true_positives: 96.0000 - true_negatives: 84.0000 - false_positives: 0.0000e+00 - false_negatives: 0.0000e+00 - val_loss: 3.8830 - val_binary_accuracy: 0.9000 - val_true_positives: 9.0000 - val_true_negatives: 9.0000 - val_false_positives: 1.0000 - val_false_negatives: 1.0000\n",
      "Epoch 88/100\n",
      "1/1 [==============================] - 4s 4s/step - loss: 0.0022 - binary_accuracy: 1.0000 - true_positives: 96.0000 - true_negatives: 84.0000 - false_positives: 0.0000e+00 - false_negatives: 0.0000e+00 - val_loss: 3.9122 - val_binary_accuracy: 0.9000 - val_true_positives: 9.0000 - val_true_negatives: 9.0000 - val_false_positives: 1.0000 - val_false_negatives: 1.0000\n",
      "Epoch 89/100\n",
      "1/1 [==============================] - 4s 4s/step - loss: 0.0180 - binary_accuracy: 0.9944 - true_positives: 96.0000 - true_negatives: 83.0000 - false_positives: 1.0000 - false_negatives: 0.0000e+00 - val_loss: 4.0122 - val_binary_accuracy: 0.9000 - val_true_positives: 9.0000 - val_true_negatives: 9.0000 - val_false_positives: 1.0000 - val_false_negatives: 1.0000\n",
      "Epoch 90/100\n",
      "1/1 [==============================] - 4s 4s/step - loss: 0.0010 - binary_accuracy: 1.0000 - true_positives: 96.0000 - true_negatives: 84.0000 - false_positives: 0.0000e+00 - false_negatives: 0.0000e+00 - val_loss: 4.0942 - val_binary_accuracy: 0.9000 - val_true_positives: 9.0000 - val_true_negatives: 9.0000 - val_false_positives: 1.0000 - val_false_negatives: 1.0000\n",
      "Epoch 91/100\n",
      "1/1 [==============================] - 4s 4s/step - loss: 0.0264 - binary_accuracy: 0.9833 - true_positives: 94.0000 - true_negatives: 83.0000 - false_positives: 1.0000 - false_negatives: 2.0000 - val_loss: 3.9872 - val_binary_accuracy: 0.9000 - val_true_positives: 9.0000 - val_true_negatives: 9.0000 - val_false_positives: 1.0000 - val_false_negatives: 1.0000\n",
      "Epoch 92/100\n",
      "1/1 [==============================] - 4s 4s/step - loss: 0.0103 - binary_accuracy: 1.0000 - true_positives: 96.0000 - true_negatives: 84.0000 - false_positives: 0.0000e+00 - false_negatives: 0.0000e+00 - val_loss: 3.8524 - val_binary_accuracy: 0.9000 - val_true_positives: 9.0000 - val_true_negatives: 9.0000 - val_false_positives: 1.0000 - val_false_negatives: 1.0000\n",
      "Epoch 93/100\n",
      "1/1 [==============================] - 4s 4s/step - loss: 0.0223 - binary_accuracy: 0.9944 - true_positives: 96.0000 - true_negatives: 83.0000 - false_positives: 1.0000 - false_negatives: 0.0000e+00 - val_loss: 3.8106 - val_binary_accuracy: 0.9000 - val_true_positives: 9.0000 - val_true_negatives: 9.0000 - val_false_positives: 1.0000 - val_false_negatives: 1.0000\n",
      "Epoch 94/100\n",
      "1/1 [==============================] - 4s 4s/step - loss: 0.0186 - binary_accuracy: 0.9944 - true_positives: 96.0000 - true_negatives: 83.0000 - false_positives: 1.0000 - false_negatives: 0.0000e+00 - val_loss: 3.7434 - val_binary_accuracy: 0.9000 - val_true_positives: 9.0000 - val_true_negatives: 9.0000 - val_false_positives: 1.0000 - val_false_negatives: 1.0000\n",
      "Epoch 95/100\n",
      "1/1 [==============================] - 4s 4s/step - loss: 0.0022 - binary_accuracy: 1.0000 - true_positives: 96.0000 - true_negatives: 84.0000 - false_positives: 0.0000e+00 - false_negatives: 0.0000e+00 - val_loss: 3.6788 - val_binary_accuracy: 0.9000 - val_true_positives: 9.0000 - val_true_negatives: 9.0000 - val_false_positives: 1.0000 - val_false_negatives: 1.0000\n",
      "Epoch 96/100\n",
      "1/1 [==============================] - 4s 4s/step - loss: 0.0011 - binary_accuracy: 1.0000 - true_positives: 96.0000 - true_negatives: 84.0000 - false_positives: 0.0000e+00 - false_negatives: 0.0000e+00 - val_loss: 3.6264 - val_binary_accuracy: 0.9000 - val_true_positives: 9.0000 - val_true_negatives: 9.0000 - val_false_positives: 1.0000 - val_false_negatives: 1.0000\n",
      "Epoch 97/100\n",
      "1/1 [==============================] - 4s 4s/step - loss: 0.0121 - binary_accuracy: 0.9944 - true_positives: 95.0000 - true_negatives: 84.0000 - false_positives: 0.0000e+00 - false_negatives: 1.0000 - val_loss: 3.5699 - val_binary_accuracy: 0.9000 - val_true_positives: 9.0000 - val_true_negatives: 9.0000 - val_false_positives: 1.0000 - val_false_negatives: 1.0000\n",
      "Epoch 98/100\n",
      "1/1 [==============================] - 4s 4s/step - loss: 0.0031 - binary_accuracy: 1.0000 - true_positives: 96.0000 - true_negatives: 84.0000 - false_positives: 0.0000e+00 - false_negatives: 0.0000e+00 - val_loss: 3.5025 - val_binary_accuracy: 0.9000 - val_true_positives: 9.0000 - val_true_negatives: 9.0000 - val_false_positives: 1.0000 - val_false_negatives: 1.0000\n",
      "Epoch 99/100\n",
      "1/1 [==============================] - 4s 4s/step - loss: 0.0078 - binary_accuracy: 0.9944 - true_positives: 96.0000 - true_negatives: 83.0000 - false_positives: 1.0000 - false_negatives: 0.0000e+00 - val_loss: 3.4889 - val_binary_accuracy: 0.9000 - val_true_positives: 9.0000 - val_true_negatives: 9.0000 - val_false_positives: 1.0000 - val_false_negatives: 1.0000\n",
      "Epoch 100/100\n",
      "1/1 [==============================] - 4s 4s/step - loss: 0.0057 - binary_accuracy: 1.0000 - true_positives: 96.0000 - true_negatives: 84.0000 - false_positives: 0.0000e+00 - false_negatives: 0.0000e+00 - val_loss: 3.4666 - val_binary_accuracy: 0.9000 - val_true_positives: 9.0000 - val_true_negatives: 9.0000 - val_false_positives: 1.0000 - val_false_negatives: 1.0000\n"
     ]
    }
   ],
   "source": [
    "def run_experiment(model):\n",
    "    optimizer = tfa.optimizers.AdamW(\n",
    "        learning_rate=learning_rate, weight_decay=weight_decay\n",
    "    )\n",
    "\n",
    "    model.compile(\n",
    "        optimizer=optimizer,\n",
    "        loss=keras.losses.BinaryCrossentropy(from_logits=True),\n",
    "        metrics = [tf.keras.metrics.BinaryAccuracy(), tf.keras.metrics.TruePositives(), tf.keras.metrics.TrueNegatives(), tf.keras.metrics.FalsePositives(), tf.keras.metrics.FalseNegatives()]\n",
    "    )\n",
    "\n",
    "    history = model.fit(\n",
    "        x=x_train,\n",
    "        y=y_train,\n",
    "        batch_size=batch_size,\n",
    "        epochs=num_epochs,\n",
    "        validation_split=0.1,\n",
    "    )\n",
    "\n",
    "    return history\n",
    "\n",
    "vit_classifier = create_vit_classifier()\n",
    "history = run_experiment(vit_classifier)"
   ]
  },
  {
   "cell_type": "code",
   "execution_count": 18,
   "id": "ef3b8c4b",
   "metadata": {},
   "outputs": [
    {
     "name": "stdout",
     "output_type": "stream",
     "text": [
      "Epoch 1/20\n",
      "1/1 [==============================] - 6s 6s/step - loss: 0.1783 - binary_accuracy: 0.9850 - true_positives: 105.0000 - true_negatives: 92.0000 - false_positives: 2.0000 - false_negatives: 1.0000 - val_loss: 0.2693 - val_binary_accuracy: 0.9300 - val_true_positives: 99.0000 - val_true_negatives: 87.0000 - val_false_positives: 13.0000 - val_false_negatives: 1.0000\n",
      "Epoch 2/20\n",
      "1/1 [==============================] - 6s 6s/step - loss: 0.1564 - binary_accuracy: 0.9900 - true_positives: 105.0000 - true_negatives: 93.0000 - false_positives: 1.0000 - false_negatives: 1.0000 - val_loss: 0.3194 - val_binary_accuracy: 0.9100 - val_true_positives: 100.0000 - val_true_negatives: 82.0000 - val_false_positives: 18.0000 - val_false_negatives: 0.0000e+00\n",
      "Epoch 3/20\n",
      "1/1 [==============================] - 5s 5s/step - loss: 0.1520 - binary_accuracy: 0.9750 - true_positives: 105.0000 - true_negatives: 90.0000 - false_positives: 4.0000 - false_negatives: 1.0000 - val_loss: 0.2669 - val_binary_accuracy: 0.9050 - val_true_positives: 98.0000 - val_true_negatives: 83.0000 - val_false_positives: 17.0000 - val_false_negatives: 2.0000\n",
      "Epoch 4/20\n",
      "1/1 [==============================] - 5s 5s/step - loss: 0.0967 - binary_accuracy: 0.9750 - true_positives: 106.0000 - true_negatives: 89.0000 - false_positives: 5.0000 - false_negatives: 0.0000e+00 - val_loss: 0.2459 - val_binary_accuracy: 0.9000 - val_true_positives: 90.0000 - val_true_negatives: 90.0000 - val_false_positives: 10.0000 - val_false_negatives: 10.0000\n",
      "Epoch 5/20\n",
      "1/1 [==============================] - 6s 6s/step - loss: 0.0908 - binary_accuracy: 0.9550 - true_positives: 101.0000 - true_negatives: 90.0000 - false_positives: 4.0000 - false_negatives: 5.0000 - val_loss: 0.3379 - val_binary_accuracy: 0.8650 - val_true_positives: 77.0000 - val_true_negatives: 96.0000 - val_false_positives: 4.0000 - val_false_negatives: 23.0000\n",
      "Epoch 6/20\n",
      "1/1 [==============================] - 5s 5s/step - loss: 0.1352 - binary_accuracy: 0.9550 - true_positives: 98.0000 - true_negatives: 93.0000 - false_positives: 1.0000 - false_negatives: 8.0000 - val_loss: 0.2073 - val_binary_accuracy: 0.9150 - val_true_positives: 94.0000 - val_true_negatives: 89.0000 - val_false_positives: 11.0000 - val_false_negatives: 6.0000\n",
      "Epoch 7/20\n",
      "1/1 [==============================] - 5s 5s/step - loss: 0.0788 - binary_accuracy: 0.9750 - true_positives: 103.0000 - true_negatives: 92.0000 - false_positives: 2.0000 - false_negatives: 3.0000 - val_loss: 0.2814 - val_binary_accuracy: 0.8900 - val_true_positives: 100.0000 - val_true_negatives: 78.0000 - val_false_positives: 22.0000 - val_false_negatives: 0.0000e+00\n",
      "Epoch 8/20\n",
      "1/1 [==============================] - 6s 6s/step - loss: 0.1215 - binary_accuracy: 0.9650 - true_positives: 106.0000 - true_negatives: 87.0000 - false_positives: 7.0000 - false_negatives: 0.0000e+00 - val_loss: 0.3406 - val_binary_accuracy: 0.8800 - val_true_positives: 100.0000 - val_true_negatives: 76.0000 - val_false_positives: 24.0000 - val_false_negatives: 0.0000e+00\n",
      "Epoch 9/20\n",
      "1/1 [==============================] - 5s 5s/step - loss: 0.1137 - binary_accuracy: 0.9600 - true_positives: 105.0000 - true_negatives: 87.0000 - false_positives: 7.0000 - false_negatives: 1.0000 - val_loss: 0.2613 - val_binary_accuracy: 0.9000 - val_true_positives: 100.0000 - val_true_negatives: 80.0000 - val_false_positives: 20.0000 - val_false_negatives: 0.0000e+00\n",
      "Epoch 10/20\n",
      "1/1 [==============================] - 5s 5s/step - loss: 0.0691 - binary_accuracy: 0.9700 - true_positives: 105.0000 - true_negatives: 89.0000 - false_positives: 5.0000 - false_negatives: 1.0000 - val_loss: 0.1375 - val_binary_accuracy: 0.9500 - val_true_positives: 99.0000 - val_true_negatives: 91.0000 - val_false_positives: 9.0000 - val_false_negatives: 1.0000\n",
      "Epoch 11/20\n",
      "1/1 [==============================] - 6s 6s/step - loss: 0.0616 - binary_accuracy: 0.9800 - true_positives: 103.0000 - true_negatives: 93.0000 - false_positives: 1.0000 - false_negatives: 3.0000 - val_loss: 0.1181 - val_binary_accuracy: 0.9600 - val_true_positives: 97.0000 - val_true_negatives: 95.0000 - val_false_positives: 5.0000 - val_false_negatives: 3.0000\n",
      "Epoch 12/20\n",
      "1/1 [==============================] - 5s 5s/step - loss: 0.0687 - binary_accuracy: 0.9850 - true_positives: 103.0000 - true_negatives: 94.0000 - false_positives: 0.0000e+00 - false_negatives: 3.0000 - val_loss: 0.1205 - val_binary_accuracy: 0.9500 - val_true_positives: 99.0000 - val_true_negatives: 91.0000 - val_false_positives: 9.0000 - val_false_negatives: 1.0000\n",
      "Epoch 13/20\n",
      "1/1 [==============================] - 5s 5s/step - loss: 0.0640 - binary_accuracy: 0.9800 - true_positives: 103.0000 - true_negatives: 93.0000 - false_positives: 1.0000 - false_negatives: 3.0000 - val_loss: 0.1751 - val_binary_accuracy: 0.9250 - val_true_positives: 100.0000 - val_true_negatives: 85.0000 - val_false_positives: 15.0000 - val_false_negatives: 0.0000e+00\n",
      "Epoch 14/20\n",
      "1/1 [==============================] - 6s 6s/step - loss: 0.0416 - binary_accuracy: 0.9900 - true_positives: 105.0000 - true_negatives: 93.0000 - false_positives: 1.0000 - false_negatives: 1.0000 - val_loss: 0.2556 - val_binary_accuracy: 0.9000 - val_true_positives: 100.0000 - val_true_negatives: 80.0000 - val_false_positives: 20.0000 - val_false_negatives: 0.0000e+00\n",
      "Epoch 15/20\n",
      "1/1 [==============================] - 5s 5s/step - loss: 0.0390 - binary_accuracy: 0.9800 - true_positives: 105.0000 - true_negatives: 91.0000 - false_positives: 3.0000 - false_negatives: 1.0000 - val_loss: 0.2602 - val_binary_accuracy: 0.9050 - val_true_positives: 100.0000 - val_true_negatives: 81.0000 - val_false_positives: 19.0000 - val_false_negatives: 0.0000e+00\n",
      "Epoch 16/20\n",
      "1/1 [==============================] - 6s 6s/step - loss: 0.0124 - binary_accuracy: 1.0000 - true_positives: 106.0000 - true_negatives: 94.0000 - false_positives: 0.0000e+00 - false_negatives: 0.0000e+00 - val_loss: 0.2225 - val_binary_accuracy: 0.9250 - val_true_positives: 100.0000 - val_true_negatives: 85.0000 - val_false_positives: 15.0000 - val_false_negatives: 0.0000e+00\n",
      "Epoch 17/20\n",
      "1/1 [==============================] - 6s 6s/step - loss: 0.0244 - binary_accuracy: 0.9950 - true_positives: 106.0000 - true_negatives: 93.0000 - false_positives: 1.0000 - false_negatives: 0.0000e+00 - val_loss: 0.1672 - val_binary_accuracy: 0.9300 - val_true_positives: 99.0000 - val_true_negatives: 87.0000 - val_false_positives: 13.0000 - val_false_negatives: 1.0000\n",
      "Epoch 18/20\n",
      "1/1 [==============================] - 5s 5s/step - loss: 0.0062 - binary_accuracy: 1.0000 - true_positives: 106.0000 - true_negatives: 94.0000 - false_positives: 0.0000e+00 - false_negatives: 0.0000e+00 - val_loss: 0.1482 - val_binary_accuracy: 0.9450 - val_true_positives: 98.0000 - val_true_negatives: 91.0000 - val_false_positives: 9.0000 - val_false_negatives: 2.0000\n",
      "Epoch 19/20\n",
      "1/1 [==============================] - 5s 5s/step - loss: 0.0499 - binary_accuracy: 0.9800 - true_positives: 102.0000 - true_negatives: 94.0000 - false_positives: 0.0000e+00 - false_negatives: 4.0000 - val_loss: 0.2090 - val_binary_accuracy: 0.9250 - val_true_positives: 99.0000 - val_true_negatives: 86.0000 - val_false_positives: 14.0000 - val_false_negatives: 1.0000\n",
      "Epoch 20/20\n",
      "1/1 [==============================] - 6s 6s/step - loss: 0.0392 - binary_accuracy: 0.9850 - true_positives: 104.0000 - true_negatives: 93.0000 - false_positives: 1.0000 - false_negatives: 2.0000 - val_loss: 0.3635 - val_binary_accuracy: 0.8750 - val_true_positives: 100.0000 - val_true_negatives: 75.0000 - val_false_positives: 25.0000 - val_false_negatives: 0.0000e+00\n"
     ]
    },
    {
     "data": {
      "text/plain": [
       "<keras.callbacks.History at 0x249011f2b50>"
      ]
     },
     "execution_count": 18,
     "metadata": {},
     "output_type": "execute_result"
    }
   ],
   "source": [
    "vit_classifier.fit(x_train, y_train, validation_data=(x_test,y_test), epochs=20, batch_size=200)"
   ]
  },
  {
   "cell_type": "code",
   "execution_count": null,
   "id": "b40b9c4b",
   "metadata": {},
   "outputs": [],
   "source": []
  }
 ],
 "metadata": {
  "kernelspec": {
   "display_name": "Python 3 (ipykernel)",
   "language": "python",
   "name": "python3"
  },
  "language_info": {
   "codemirror_mode": {
    "name": "ipython",
    "version": 3
   },
   "file_extension": ".py",
   "mimetype": "text/x-python",
   "name": "python",
   "nbconvert_exporter": "python",
   "pygments_lexer": "ipython3",
   "version": "3.9.12"
  }
 },
 "nbformat": 4,
 "nbformat_minor": 5
}
