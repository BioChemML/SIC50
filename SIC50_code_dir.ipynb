{
 "cells": [
  {
   "cell_type": "code",
   "execution_count": 1,
   "id": "2a5e91fb",
   "metadata": {},
   "outputs": [
    {
     "name": "stderr",
     "output_type": "stream",
     "text": [
      "C:\\Users\\lenovo-pc\\anaconda3\\lib\\site-packages\\scipy\\__init__.py:146: UserWarning: A NumPy version >=1.16.5 and <1.23.0 is required for this version of SciPy (detected version 1.23.1\n",
      "  warnings.warn(f\"A NumPy version >={np_minversion} and <{np_maxversion}\"\n"
     ]
    }
   ],
   "source": [
    "import tensorflow as tf\n",
    "import keras_preprocessing\n",
    "from keras_preprocessing import image\n",
    "from keras_preprocessing.image import ImageDataGenerator\n",
    "\n",
    "TRAINING_DIR = ('D:\\\\train')\n",
    "training_datagen = ImageDataGenerator(\n",
    "      rescale = 1./255,\n",
    "\t    rotation_range=40,\n",
    "      width_shift_range=0.2,\n",
    "      height_shift_range=0.2,\n",
    "      shear_range=0.2,\n",
    "      zoom_range=0.2,\n",
    "      horizontal_flip=True,\n",
    "      fill_mode='nearest')"
   ]
  },
  {
   "cell_type": "code",
   "execution_count": 2,
   "id": "57d09948",
   "metadata": {},
   "outputs": [],
   "source": [
    "VALIDATION_DIR = ('D:\\\\test')\n",
    "validation_datagen = ImageDataGenerator(rescale = 1./255)"
   ]
  },
  {
   "cell_type": "code",
   "execution_count": 3,
   "id": "cb8d9019",
   "metadata": {},
   "outputs": [
    {
     "name": "stdout",
     "output_type": "stream",
     "text": [
      "Found 3600 images belonging to 2 classes.\n"
     ]
    }
   ],
   "source": [
    "train_generator = training_datagen.flow_from_directory(\n",
    "\tTRAINING_DIR,\n",
    "\ttarget_size=(196,196),\n",
    "\tclass_mode='binary',\n",
    "  batch_size=200\n",
    ")"
   ]
  },
  {
   "cell_type": "code",
   "execution_count": 4,
   "id": "a3483d5b",
   "metadata": {},
   "outputs": [
    {
     "name": "stdout",
     "output_type": "stream",
     "text": [
      "Found 400 images belonging to 2 classes.\n"
     ]
    }
   ],
   "source": [
    "validation_generator = validation_datagen.flow_from_directory(\n",
    "\tVALIDATION_DIR,\n",
    "\ttarget_size=(196,196),\n",
    "\tclass_mode='binary',\n",
    "  batch_size=200\n",
    ")"
   ]
  },
  {
   "cell_type": "code",
   "execution_count": 5,
   "id": "34c674ff",
   "metadata": {
    "scrolled": true
   },
   "outputs": [
    {
     "name": "stdout",
     "output_type": "stream",
     "text": [
      "Model: \"sequential\"\n",
      "_________________________________________________________________\n",
      " Layer (type)                Output Shape              Param #   \n",
      "=================================================================\n",
      " conv2d (Conv2D)             (None, 196, 196, 64)      1792      \n",
      "                                                                 \n",
      " max_pooling2d (MaxPooling2D  (None, 98, 98, 64)       0         \n",
      " )                                                               \n",
      "                                                                 \n",
      " conv2d_1 (Conv2D)           (None, 96, 96, 64)        36928     \n",
      "                                                                 \n",
      " max_pooling2d_1 (MaxPooling  (None, 48, 48, 64)       0         \n",
      " 2D)                                                             \n",
      "                                                                 \n",
      " conv2d_2 (Conv2D)           (None, 46, 46, 128)       73856     \n",
      "                                                                 \n",
      " max_pooling2d_2 (MaxPooling  (None, 23, 23, 128)      0         \n",
      " 2D)                                                             \n",
      "                                                                 \n",
      " conv2d_3 (Conv2D)           (None, 21, 21, 128)       147584    \n",
      "                                                                 \n",
      " max_pooling2d_3 (MaxPooling  (None, 10, 10, 128)      0         \n",
      " 2D)                                                             \n",
      "                                                                 \n",
      " flatten (Flatten)           (None, 12800)             0         \n",
      "                                                                 \n",
      " dropout (Dropout)           (None, 12800)             0         \n",
      "                                                                 \n",
      " dense (Dense)               (None, 512)               6554112   \n",
      "                                                                 \n",
      " dense_1 (Dense)             (None, 1)                 513       \n",
      "                                                                 \n",
      "=================================================================\n",
      "Total params: 6,814,785\n",
      "Trainable params: 6,814,785\n",
      "Non-trainable params: 0\n",
      "_________________________________________________________________\n"
     ]
    }
   ],
   "source": [
    "model = tf.keras.models.Sequential([\n",
    "    # Note the input shape is the desired size of the image 196 x 196\n",
    "    # This is the first convolution\n",
    "    tf.keras.layers.Conv2D(64, (3,3), activation='relu', input_shape=(196, 196, 3)),\n",
    "    tf.keras.layers.MaxPooling2D(2, 2),\n",
    "    # The second convolution\n",
    "    tf.keras.layers.Conv2D(64, (3,3), activation='relu'),\n",
    "    tf.keras.layers.MaxPooling2D(2,2),\n",
    "    # The third convolution\n",
    "    tf.keras.layers.Conv2D(128, (3,3), activation='relu'),\n",
    "    tf.keras.layers.MaxPooling2D(2,2),\n",
    "    # The fourth convolution\n",
    "    tf.keras.layers.Conv2D(128, (3,3), activation='relu'),\n",
    "    tf.keras.layers.MaxPooling2D(2,2),\n",
    "    # Flatten the results to feed into a DNN\n",
    "    tf.keras.layers.Flatten(),\n",
    "    tf.keras.layers.Dropout(0.5),\n",
    "    # 512 neuron hidden layer\n",
    "    tf.keras.layers.Dense(512, activation='relu'),\n",
    "    tf.keras.layers.Dense(1, activation='sigmoid')\n",
    "])\n",
    "\n",
    "\n",
    "model.summary()"
   ]
  },
  {
   "cell_type": "code",
   "execution_count": 6,
   "id": "3cc4e7db",
   "metadata": {},
   "outputs": [],
   "source": [
    "model.compile(loss = tf.keras.losses.BinaryCrossentropy(),\n",
    "              optimizer = tf.keras.optimizers.Adam(learning_rate=1e-3),\n",
    "              metrics = [tf.keras.metrics.BinaryAccuracy(),\n",
    "                       tf.keras.metrics.FalseNegatives()])\n"
   ]
  },
  {
   "cell_type": "code",
   "execution_count": 7,
   "id": "7ce84cda",
   "metadata": {
    "scrolled": true
   },
   "outputs": [
    {
     "name": "stdout",
     "output_type": "stream",
     "text": [
      "Epoch 1/50\n",
      "30/30 [==============================] - 6s 187ms/step - loss: 0.7334 - binary_accuracy: 0.5167 - false_negatives: 7.0000 - val_loss: 0.7107 - val_binary_accuracy: 0.3333 - val_false_negatives: 0.0000e+00\n",
      "Epoch 2/50\n",
      "30/30 [==============================] - 5s 179ms/step - loss: 0.6511 - binary_accuracy: 0.5833 - false_negatives: 0.0000e+00 - val_loss: 0.5645 - val_binary_accuracy: 0.5000 - val_false_negatives: 0.0000e+00\n",
      "Epoch 3/50\n",
      "30/30 [==============================] - 5s 166ms/step - loss: 0.5437 - binary_accuracy: 0.8167 - false_negatives: 5.0000 - val_loss: 0.6050 - val_binary_accuracy: 0.6667 - val_false_negatives: 0.0000e+00\n",
      "Epoch 4/50\n",
      "30/30 [==============================] - 5s 167ms/step - loss: 0.3949 - binary_accuracy: 0.8500 - false_negatives: 4.0000 - val_loss: 0.3749 - val_binary_accuracy: 0.8333 - val_false_negatives: 0.0000e+00\n",
      "Epoch 5/50\n",
      "30/30 [==============================] - 5s 171ms/step - loss: 0.4723 - binary_accuracy: 0.8500 - false_negatives: 5.0000 - val_loss: 0.8763 - val_binary_accuracy: 0.3333 - val_false_negatives: 1.0000\n",
      "Epoch 6/50\n",
      "30/30 [==============================] - 5s 172ms/step - loss: 0.3676 - binary_accuracy: 0.8500 - false_negatives: 2.0000 - val_loss: 0.1786 - val_binary_accuracy: 1.0000 - val_false_negatives: 0.0000e+00\n",
      "Epoch 7/50\n",
      "30/30 [==============================] - 5s 170ms/step - loss: 0.3228 - binary_accuracy: 0.8500 - false_negatives: 5.0000 - val_loss: 0.5191 - val_binary_accuracy: 0.8333 - val_false_negatives: 1.0000\n",
      "Epoch 8/50\n",
      "30/30 [==============================] - 5s 175ms/step - loss: 0.3571 - binary_accuracy: 0.8833 - false_negatives: 4.0000 - val_loss: 0.0898 - val_binary_accuracy: 1.0000 - val_false_negatives: 0.0000e+00\n",
      "Epoch 9/50\n",
      "30/30 [==============================] - 5s 169ms/step - loss: 0.4107 - binary_accuracy: 0.8167 - false_negatives: 8.0000 - val_loss: 0.5504 - val_binary_accuracy: 0.6667 - val_false_negatives: 0.0000e+00\n",
      "Epoch 10/50\n",
      "30/30 [==============================] - 5s 164ms/step - loss: 0.3365 - binary_accuracy: 0.8833 - false_negatives: 3.0000 - val_loss: 1.0115 - val_binary_accuracy: 0.6667 - val_false_negatives: 0.0000e+00\n",
      "Epoch 11/50\n",
      "30/30 [==============================] - 5s 174ms/step - loss: 0.1397 - binary_accuracy: 0.9833 - false_negatives: 0.0000e+00 - val_loss: 1.0178 - val_binary_accuracy: 0.8333 - val_false_negatives: 0.0000e+00\n",
      "Epoch 12/50\n",
      "30/30 [==============================] - 5s 167ms/step - loss: 0.6513 - binary_accuracy: 0.7167 - false_negatives: 8.0000 - val_loss: 1.0220 - val_binary_accuracy: 0.3333 - val_false_negatives: 0.0000e+00\n",
      "Epoch 13/50\n",
      "30/30 [==============================] - 5s 166ms/step - loss: 0.6826 - binary_accuracy: 0.5833 - false_negatives: 0.0000e+00 - val_loss: 0.7201 - val_binary_accuracy: 0.3333 - val_false_negatives: 0.0000e+00\n",
      "Epoch 14/50\n",
      "30/30 [==============================] - 5s 176ms/step - loss: 0.6038 - binary_accuracy: 0.6500 - false_negatives: 0.0000e+00 - val_loss: 0.5433 - val_binary_accuracy: 0.8333 - val_false_negatives: 0.0000e+00\n",
      "Epoch 15/50\n",
      "30/30 [==============================] - 5s 166ms/step - loss: 0.6911 - binary_accuracy: 0.5000 - false_negatives: 9.0000 - val_loss: 0.5372 - val_binary_accuracy: 0.5000 - val_false_negatives: 0.0000e+00\n",
      "Epoch 16/50\n",
      "30/30 [==============================] - 5s 166ms/step - loss: 0.5460 - binary_accuracy: 0.7500 - false_negatives: 6.0000 - val_loss: 0.2429 - val_binary_accuracy: 1.0000 - val_false_negatives: 0.0000e+00\n",
      "Epoch 17/50\n",
      "30/30 [==============================] - 5s 174ms/step - loss: 0.5073 - binary_accuracy: 0.7500 - false_negatives: 4.0000 - val_loss: 0.5862 - val_binary_accuracy: 0.8333 - val_false_negatives: 1.0000\n",
      "Epoch 18/50\n",
      "30/30 [==============================] - 5s 170ms/step - loss: 0.5589 - binary_accuracy: 0.6833 - false_negatives: 11.0000 - val_loss: 0.5019 - val_binary_accuracy: 0.8333 - val_false_negatives: 1.0000\n",
      "Epoch 19/50\n",
      "30/30 [==============================] - 5s 167ms/step - loss: 0.3439 - binary_accuracy: 0.9167 - false_negatives: 3.0000 - val_loss: 0.1198 - val_binary_accuracy: 1.0000 - val_false_negatives: 0.0000e+00\n",
      "Epoch 20/50\n",
      "30/30 [==============================] - 5s 170ms/step - loss: 0.3146 - binary_accuracy: 0.9333 - false_negatives: 1.0000 - val_loss: 0.2124 - val_binary_accuracy: 1.0000 - val_false_negatives: 0.0000e+00\n",
      "Epoch 21/50\n",
      "30/30 [==============================] - 5s 169ms/step - loss: 0.5104 - binary_accuracy: 0.7833 - false_negatives: 7.0000 - val_loss: 0.4672 - val_binary_accuracy: 0.8333 - val_false_negatives: 0.0000e+00\n",
      "Epoch 22/50\n",
      "30/30 [==============================] - 5s 165ms/step - loss: 0.2905 - binary_accuracy: 0.9167 - false_negatives: 2.0000 - val_loss: 0.6605 - val_binary_accuracy: 0.5000 - val_false_negatives: 0.0000e+00\n",
      "Epoch 23/50\n",
      "30/30 [==============================] - 5s 170ms/step - loss: 0.0935 - binary_accuracy: 0.9667 - false_negatives: 0.0000e+00 - val_loss: 0.0272 - val_binary_accuracy: 1.0000 - val_false_negatives: 0.0000e+00\n",
      "Epoch 24/50\n",
      "30/30 [==============================] - 5s 171ms/step - loss: 1.1622 - binary_accuracy: 0.6167 - false_negatives: 8.0000 - val_loss: 0.7402 - val_binary_accuracy: 0.6667 - val_false_negatives: 2.0000\n",
      "Epoch 25/50\n",
      "30/30 [==============================] - 5s 166ms/step - loss: 0.5822 - binary_accuracy: 0.8000 - false_negatives: 7.0000 - val_loss: 0.3749 - val_binary_accuracy: 0.8333 - val_false_negatives: 0.0000e+00\n",
      "Epoch 26/50\n",
      "30/30 [==============================] - 5s 169ms/step - loss: 0.4698 - binary_accuracy: 0.8667 - false_negatives: 1.0000 - val_loss: 0.1139 - val_binary_accuracy: 1.0000 - val_false_negatives: 0.0000e+00\n",
      "Epoch 27/50\n",
      "30/30 [==============================] - 5s 171ms/step - loss: 0.5430 - binary_accuracy: 0.7833 - false_negatives: 7.0000 - val_loss: 0.4747 - val_binary_accuracy: 0.6667 - val_false_negatives: 0.0000e+00\n",
      "Epoch 28/50\n",
      "30/30 [==============================] - 5s 165ms/step - loss: 0.2299 - binary_accuracy: 0.9500 - false_negatives: 0.0000e+00 - val_loss: 0.0267 - val_binary_accuracy: 1.0000 - val_false_negatives: 0.0000e+00\n",
      "Epoch 29/50\n",
      "30/30 [==============================] - 5s 166ms/step - loss: 0.3910 - binary_accuracy: 0.8167 - false_negatives: 5.0000 - val_loss: 0.1308 - val_binary_accuracy: 1.0000 - val_false_negatives: 0.0000e+00\n",
      "Epoch 30/50\n",
      "30/30 [==============================] - 5s 174ms/step - loss: 0.3923 - binary_accuracy: 0.8500 - false_negatives: 4.0000 - val_loss: 0.0786 - val_binary_accuracy: 1.0000 - val_false_negatives: 0.0000e+00\n",
      "Epoch 31/50\n",
      "30/30 [==============================] - 5s 167ms/step - loss: 0.3340 - binary_accuracy: 0.8500 - false_negatives: 3.0000 - val_loss: 0.1615 - val_binary_accuracy: 1.0000 - val_false_negatives: 0.0000e+00\n",
      "Epoch 32/50\n",
      "30/30 [==============================] - 5s 165ms/step - loss: 0.1650 - binary_accuracy: 0.9667 - false_negatives: 1.0000 - val_loss: 0.4601 - val_binary_accuracy: 0.8333 - val_false_negatives: 0.0000e+00\n",
      "Epoch 33/50\n",
      "30/30 [==============================] - 5s 174ms/step - loss: 0.2436 - binary_accuracy: 0.9167 - false_negatives: 1.0000 - val_loss: 0.2007 - val_binary_accuracy: 0.8333 - val_false_negatives: 0.0000e+00\n",
      "Epoch 34/50\n",
      "30/30 [==============================] - 5s 170ms/step - loss: 0.2457 - binary_accuracy: 0.9167 - false_negatives: 2.0000 - val_loss: 0.1689 - val_binary_accuracy: 1.0000 - val_false_negatives: 0.0000e+00\n",
      "Epoch 35/50\n",
      "30/30 [==============================] - 5s 181ms/step - loss: 0.2076 - binary_accuracy: 0.9167 - false_negatives: 2.0000 - val_loss: 0.3819 - val_binary_accuracy: 0.8333 - val_false_negatives: 0.0000e+00\n",
      "Epoch 36/50\n",
      "30/30 [==============================] - 6s 187ms/step - loss: 0.1249 - binary_accuracy: 0.9667 - false_negatives: 1.0000 - val_loss: 0.0183 - val_binary_accuracy: 1.0000 - val_false_negatives: 0.0000e+00\n",
      "Epoch 37/50\n",
      "30/30 [==============================] - 5s 165ms/step - loss: 0.1879 - binary_accuracy: 0.9167 - false_negatives: 2.0000 - val_loss: 0.7307 - val_binary_accuracy: 0.6667 - val_false_negatives: 0.0000e+00\n",
      "Epoch 38/50\n",
      "30/30 [==============================] - 5s 166ms/step - loss: 0.2070 - binary_accuracy: 0.9000 - false_negatives: 3.0000 - val_loss: 0.0266 - val_binary_accuracy: 1.0000 - val_false_negatives: 0.0000e+00\n"
     ]
    },
    {
     "name": "stdout",
     "output_type": "stream",
     "text": [
      "Epoch 39/50\n",
      "30/30 [==============================] - 5s 173ms/step - loss: 0.3499 - binary_accuracy: 0.8333 - false_negatives: 5.0000 - val_loss: 0.1127 - val_binary_accuracy: 1.0000 - val_false_negatives: 0.0000e+00\n",
      "Epoch 40/50\n",
      "30/30 [==============================] - 5s 165ms/step - loss: 0.1683 - binary_accuracy: 0.9667 - false_negatives: 0.0000e+00 - val_loss: 0.0432 - val_binary_accuracy: 1.0000 - val_false_negatives: 0.0000e+00\n",
      "Epoch 41/50\n",
      "30/30 [==============================] - 5s 164ms/step - loss: 0.2334 - binary_accuracy: 0.9167 - false_negatives: 4.0000 - val_loss: 0.0628 - val_binary_accuracy: 1.0000 - val_false_negatives: 0.0000e+00\n",
      "Epoch 42/50\n",
      "30/30 [==============================] - 5s 176ms/step - loss: 0.1353 - binary_accuracy: 0.9500 - false_negatives: 1.0000 - val_loss: 0.0526 - val_binary_accuracy: 1.0000 - val_false_negatives: 0.0000e+00\n",
      "Epoch 43/50\n",
      "30/30 [==============================] - 5s 166ms/step - loss: 0.0493 - binary_accuracy: 0.9667 - false_negatives: 0.0000e+00 - val_loss: 0.0050 - val_binary_accuracy: 1.0000 - val_false_negatives: 0.0000e+00\n",
      "Epoch 44/50\n",
      "30/30 [==============================] - 5s 164ms/step - loss: 0.1812 - binary_accuracy: 0.9167 - false_negatives: 2.0000 - val_loss: 0.0124 - val_binary_accuracy: 1.0000 - val_false_negatives: 0.0000e+00\n",
      "Epoch 45/50\n",
      "30/30 [==============================] - 5s 168ms/step - loss: 0.2525 - binary_accuracy: 0.8667 - false_negatives: 5.0000 - val_loss: 0.6661 - val_binary_accuracy: 0.8333 - val_false_negatives: 0.0000e+00\n",
      "Epoch 46/50\n",
      "30/30 [==============================] - 5s 167ms/step - loss: 0.2061 - binary_accuracy: 0.9167 - false_negatives: 2.0000 - val_loss: 0.4401 - val_binary_accuracy: 0.8333 - val_false_negatives: 0.0000e+00\n",
      "Epoch 47/50\n",
      "30/30 [==============================] - 5s 165ms/step - loss: 0.0926 - binary_accuracy: 0.9833 - false_negatives: 0.0000e+00 - val_loss: 0.0437 - val_binary_accuracy: 1.0000 - val_false_negatives: 0.0000e+00\n",
      "Epoch 48/50\n",
      "30/30 [==============================] - 5s 167ms/step - loss: 0.2430 - binary_accuracy: 0.9000 - false_negatives: 2.0000 - val_loss: 0.5209 - val_binary_accuracy: 0.8333 - val_false_negatives: 0.0000e+00\n",
      "Epoch 49/50\n",
      "30/30 [==============================] - 5s 171ms/step - loss: 0.0930 - binary_accuracy: 1.0000 - false_negatives: 0.0000e+00 - val_loss: 0.6295 - val_binary_accuracy: 0.8333 - val_false_negatives: 0.0000e+00\n",
      "Epoch 50/50\n",
      "30/30 [==============================] - 5s 165ms/step - loss: 0.2047 - binary_accuracy: 0.9167 - false_negatives: 2.0000 - val_loss: 0.3965 - val_binary_accuracy: 0.8333 - val_false_negatives: 1.0000\n"
     ]
    }
   ],
   "source": [
    "history = model.fit(train_generator, \n",
    "                    epochs=50, \n",
    "                    steps_per_epoch=30, \n",
    "                    validation_data = validation_generator, \n",
    "                    verbose = 1, \n",
    "                    validation_steps=3)\n"
   ]
  }
 ],
 "metadata": {
  "kernelspec": {
   "display_name": "Python 3 (ipykernel)",
   "language": "python",
   "name": "python3"
  },
  "language_info": {
   "codemirror_mode": {
    "name": "ipython",
    "version": 3
   },
   "file_extension": ".py",
   "mimetype": "text/x-python",
   "name": "python",
   "nbconvert_exporter": "python",
   "pygments_lexer": "ipython3",
   "version": "3.9.12"
  }
 },
 "nbformat": 4,
 "nbformat_minor": 5
}
