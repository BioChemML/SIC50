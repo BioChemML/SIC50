{
 "cells": [
  {
   "cell_type": "code",
   "execution_count": 1,
   "id": "2a5e91fb",
   "metadata": {},
   "outputs": [
    {
     "name": "stderr",
     "output_type": "stream",
     "text": [
      "C:\\Users\\lenovo-pc\\anaconda3\\lib\\site-packages\\scipy\\__init__.py:146: UserWarning: A NumPy version >=1.16.5 and <1.23.0 is required for this version of SciPy (detected version 1.23.1\n",
      "  warnings.warn(f\"A NumPy version >={np_minversion} and <{np_maxversion}\"\n"
     ]
    }
   ],
   "source": [
    "import tensorflow as tf\n",
    "import keras_preprocessing\n",
    "from keras_preprocessing import image\n",
    "from keras_preprocessing.image import ImageDataGenerator\n",
    "\n",
    "TRAINING_DIR = ('F:\\\\train')\n",
    "training_datagen = ImageDataGenerator(\n",
    "      rescale = 1./255,\n",
    "\t    rotation_range=40,\n",
    "      width_shift_range=0.2,\n",
    "      height_shift_range=0.2,\n",
    "      shear_range=0.2,\n",
    "      zoom_range=0.2,\n",
    "      horizontal_flip=True,\n",
    "      fill_mode='nearest')"
   ]
  },
  {
   "cell_type": "code",
   "execution_count": 2,
   "id": "57d09948",
   "metadata": {},
   "outputs": [],
   "source": [
    "VALIDATION_DIR = ('F:\\\\test')\n",
    "validation_datagen = ImageDataGenerator(rescale = 1./255)"
   ]
  },
  {
   "cell_type": "code",
   "execution_count": 3,
   "id": "cb8d9019",
   "metadata": {},
   "outputs": [
    {
     "name": "stdout",
     "output_type": "stream",
     "text": [
      "Found 5040 images belonging to 2 classes.\n"
     ]
    }
   ],
   "source": [
    "train_generator = training_datagen.flow_from_directory(\n",
    "\tTRAINING_DIR,\n",
    "\ttarget_size=(201,201),\n",
    "\tclass_mode='binary',\n",
    "  batch_size=10\n",
    ")"
   ]
  },
  {
   "cell_type": "code",
   "execution_count": 4,
   "id": "a3483d5b",
   "metadata": {},
   "outputs": [
    {
     "name": "stdout",
     "output_type": "stream",
     "text": [
      "Found 560 images belonging to 2 classes.\n"
     ]
    }
   ],
   "source": [
    "validation_generator = validation_datagen.flow_from_directory(\n",
    "\tVALIDATION_DIR,\n",
    "\ttarget_size=(201,201),\n",
    "\tclass_mode='binary',\n",
    "  batch_size=10\n",
    ")"
   ]
  },
  {
   "cell_type": "code",
   "execution_count": 5,
   "id": "34c674ff",
   "metadata": {
    "scrolled": true
   },
   "outputs": [
    {
     "name": "stdout",
     "output_type": "stream",
     "text": [
      "Model: \"sequential\"\n",
      "_________________________________________________________________\n",
      " Layer (type)                Output Shape              Param #   \n",
      "=================================================================\n",
      " conv2d (Conv2D)             (None, 196, 196, 64)      1792      \n",
      "                                                                 \n",
      " max_pooling2d (MaxPooling2D  (None, 98, 98, 64)       0         \n",
      " )                                                               \n",
      "                                                                 \n",
      " conv2d_1 (Conv2D)           (None, 96, 96, 64)        36928     \n",
      "                                                                 \n",
      " max_pooling2d_1 (MaxPooling  (None, 48, 48, 64)       0         \n",
      " 2D)                                                             \n",
      "                                                                 \n",
      " conv2d_2 (Conv2D)           (None, 46, 46, 128)       73856     \n",
      "                                                                 \n",
      " max_pooling2d_2 (MaxPooling  (None, 23, 23, 128)      0         \n",
      " 2D)                                                             \n",
      "                                                                 \n",
      " conv2d_3 (Conv2D)           (None, 21, 21, 128)       147584    \n",
      "                                                                 \n",
      " max_pooling2d_3 (MaxPooling  (None, 10, 10, 128)      0         \n",
      " 2D)                                                             \n",
      "                                                                 \n",
      " flatten (Flatten)           (None, 12800)             0         \n",
      "                                                                 \n",
      " dropout (Dropout)           (None, 12800)             0         \n",
      "                                                                 \n",
      " dense (Dense)               (None, 512)               6554112   \n",
      "                                                                 \n",
      " dense_1 (Dense)             (None, 1)                 513       \n",
      "                                                                 \n",
      "=================================================================\n",
      "Total params: 6,814,785\n",
      "Trainable params: 6,814,785\n",
      "Non-trainable params: 0\n",
      "_________________________________________________________________\n"
     ]
    }
   ],
   "source": [
    "model = tf.keras.models.Sequential([\n",
    "    # This is the first convolution\n",
    "    tf.keras.layers.Conv2D(64, (3,3), activation='relu', input_shape=(198, 198, 3)),\n",
    "    tf.keras.layers.MaxPooling2D(2, 2),\n",
    "    # The second convolution\n",
    "    tf.keras.layers.Conv2D(64, (3,3), activation='relu'),\n",
    "    tf.keras.layers.MaxPooling2D(2,2),\n",
    "    # The third convolution\n",
    "    tf.keras.layers.Conv2D(128, (3,3), activation='relu'),\n",
    "    tf.keras.layers.MaxPooling2D(2,2),\n",
    "    # The fourth convolution\n",
    "    tf.keras.layers.Conv2D(128, (3,3), activation='relu'),\n",
    "    tf.keras.layers.MaxPooling2D(2,2),\n",
    "    # Flatten the results to feed into a DNN\n",
    "    tf.keras.layers.Flatten(),\n",
    "    tf.keras.layers.Dropout(0.5),\n",
    "    # 512 neuron hidden layer\n",
    "    tf.keras.layers.Dense(512, activation='relu'),\n",
    "    tf.keras.layers.Dense(1, activation='sigmoid')\n",
    "])\n",
    "\n",
    "\n",
    "model.summary()"
   ]
  },
  {
   "cell_type": "code",
   "execution_count": 6,
   "id": "3cc4e7db",
   "metadata": {},
   "outputs": [],
   "source": [
    "model.compile(loss = tf.keras.losses.BinaryCrossentropy(),\n",
    "              optimizer = tf.keras.optimizers.Adam(learning_rate=1e-3),\n",
    "              metrics = [tf.keras.metrics.BinaryAccuracy(),\n",
    "                       tf.keras.metrics.FalseNegatives()])\n"
   ]
  },
  {
   "cell_type": "code",
   "execution_count": 7,
   "id": "7ce84cda",
   "metadata": {
    "scrolled": false
   },
   "outputs": [
    {
     "name": "stdout",
     "output_type": "stream",
     "text": [
      "Epoch 1/50\n",
      "30/30 [==============================] - 20s 641ms/step - loss: 0.7075 - binary_accuracy: 0.4967 - false_negatives: 101.0000 - val_loss: 0.6972 - val_binary_accuracy: 0.3333 - val_false_negatives: 20.0000\n",
      "Epoch 2/50\n",
      "30/30 [==============================] - 19s 627ms/step - loss: 0.6936 - binary_accuracy: 0.5100 - false_negatives: 11.0000 - val_loss: 0.6933 - val_binary_accuracy: 0.5000 - val_false_negatives: 0.0000e+00\n",
      "Epoch 3/50\n",
      "30/30 [==============================] - 19s 625ms/step - loss: 0.6929 - binary_accuracy: 0.5167 - false_negatives: 0.0000e+00 - val_loss: 0.6905 - val_binary_accuracy: 0.6000 - val_false_negatives: 0.0000e+00\n",
      "Epoch 4/50\n",
      "30/30 [==============================] - 16s 528ms/step - loss: 0.6940 - binary_accuracy: 0.4700 - false_negatives: 0.0000e+00 - val_loss: 0.6931 - val_binary_accuracy: 0.5000 - val_false_negatives: 0.0000e+00\n",
      "Epoch 5/50\n",
      "30/30 [==============================] - 16s 524ms/step - loss: 0.6933 - binary_accuracy: 0.4733 - false_negatives: 45.0000 - val_loss: 0.6931 - val_binary_accuracy: 0.5000 - val_false_negatives: 15.0000\n",
      "Epoch 6/50\n",
      "30/30 [==============================] - 16s 522ms/step - loss: 0.6932 - binary_accuracy: 0.5100 - false_negatives: 147.0000 - val_loss: 0.6930 - val_binary_accuracy: 0.5333 - val_false_negatives: 14.0000\n",
      "Epoch 7/50\n",
      "30/30 [==============================] - 16s 529ms/step - loss: 0.6933 - binary_accuracy: 0.4767 - false_negatives: 157.0000 - val_loss: 0.6933 - val_binary_accuracy: 0.4667 - val_false_negatives: 16.0000\n",
      "Epoch 8/50\n",
      "30/30 [==============================] - 16s 519ms/step - loss: 0.6932 - binary_accuracy: 0.4800 - false_negatives: 156.0000 - val_loss: 0.6931 - val_binary_accuracy: 0.6333 - val_false_negatives: 11.0000\n",
      "Epoch 9/50\n",
      "30/30 [==============================] - 16s 523ms/step - loss: 0.6932 - binary_accuracy: 0.4700 - false_negatives: 67.0000 - val_loss: 0.6932 - val_binary_accuracy: 0.3000 - val_false_negatives: 0.0000e+00\n",
      "Epoch 10/50\n",
      "30/30 [==============================] - 16s 518ms/step - loss: 0.6931 - binary_accuracy: 0.5067 - false_negatives: 32.0000 - val_loss: 0.6928 - val_binary_accuracy: 0.6000 - val_false_negatives: 12.0000\n",
      "Epoch 11/50\n",
      "30/30 [==============================] - 16s 516ms/step - loss: 0.6930 - binary_accuracy: 0.5267 - false_negatives: 142.0000 - val_loss: 0.6928 - val_binary_accuracy: 0.5333 - val_false_negatives: 14.0000\n",
      "Epoch 12/50\n",
      "30/30 [==============================] - 16s 515ms/step - loss: 0.6932 - binary_accuracy: 0.5100 - false_negatives: 147.0000 - val_loss: 0.6919 - val_binary_accuracy: 0.6000 - val_false_negatives: 12.0000\n",
      "Epoch 13/50\n",
      "30/30 [==============================] - 16s 524ms/step - loss: 0.6936 - binary_accuracy: 0.4700 - false_negatives: 159.0000 - val_loss: 0.6935 - val_binary_accuracy: 0.4667 - val_false_negatives: 16.0000\n",
      "Epoch 14/50\n",
      "30/30 [==============================] - 16s 522ms/step - loss: 0.6934 - binary_accuracy: 0.4667 - false_negatives: 160.0000 - val_loss: 0.6931 - val_binary_accuracy: 0.5333 - val_false_negatives: 14.0000\n",
      "Epoch 15/50\n",
      "30/30 [==============================] - 16s 518ms/step - loss: 0.6932 - binary_accuracy: 0.5133 - false_negatives: 61.0000 - val_loss: 0.6934 - val_binary_accuracy: 0.4000 - val_false_negatives: 0.0000e+00\n",
      "Epoch 16/50\n",
      "30/30 [==============================] - 16s 521ms/step - loss: 0.6933 - binary_accuracy: 0.4900 - false_negatives: 0.0000e+00 - val_loss: 0.6932 - val_binary_accuracy: 0.4667 - val_false_negatives: 0.0000e+00\n",
      "Epoch 17/50\n",
      "30/30 [==============================] - 16s 519ms/step - loss: 0.6931 - binary_accuracy: 0.4967 - false_negatives: 86.0000 - val_loss: 0.6933 - val_binary_accuracy: 0.4667 - val_false_negatives: 16.0000\n",
      "Epoch 18/50\n",
      "30/30 [==============================] - 16s 517ms/step - loss: 0.6925 - binary_accuracy: 0.5733 - false_negatives: 128.0000 - val_loss: 0.6953 - val_binary_accuracy: 0.3667 - val_false_negatives: 19.0000\n",
      "Epoch 19/50\n",
      "30/30 [==============================] - 16s 518ms/step - loss: 0.6937 - binary_accuracy: 0.4800 - false_negatives: 156.0000 - val_loss: 0.6938 - val_binary_accuracy: 0.4667 - val_false_negatives: 16.0000\n",
      "Epoch 20/50\n",
      "30/30 [==============================] - 16s 517ms/step - loss: 0.6932 - binary_accuracy: 0.5033 - false_negatives: 149.0000 - val_loss: 0.6927 - val_binary_accuracy: 0.5333 - val_false_negatives: 14.0000\n",
      "Epoch 21/50\n",
      "30/30 [==============================] - 16s 526ms/step - loss: 0.6936 - binary_accuracy: 0.4733 - false_negatives: 158.0000 - val_loss: 0.6936 - val_binary_accuracy: 0.4667 - val_false_negatives: 16.0000\n",
      "Epoch 22/50\n",
      "30/30 [==============================] - 16s 521ms/step - loss: 0.6934 - binary_accuracy: 0.4833 - false_negatives: 155.0000 - val_loss: 0.6934 - val_binary_accuracy: 0.4667 - val_false_negatives: 16.0000\n",
      "Epoch 23/50\n",
      "30/30 [==============================] - 16s 532ms/step - loss: 0.6932 - binary_accuracy: 0.5033 - false_negatives: 149.0000 - val_loss: 0.6936 - val_binary_accuracy: 0.4333 - val_false_negatives: 17.0000\n",
      "Epoch 24/50\n",
      "30/30 [==============================] - 16s 535ms/step - loss: 0.6933 - binary_accuracy: 0.4767 - false_negatives: 157.0000 - val_loss: 0.6928 - val_binary_accuracy: 0.6000 - val_false_negatives: 12.0000\n",
      "Epoch 25/50\n",
      "30/30 [==============================] - 16s 516ms/step - loss: 0.6932 - binary_accuracy: 0.4767 - false_negatives: 113.0000 - val_loss: 0.6931 - val_binary_accuracy: 0.5000 - val_false_negatives: 0.0000e+00\n",
      "Epoch 26/50\n",
      "30/30 [==============================] - 17s 565ms/step - loss: 0.6931 - binary_accuracy: 0.5267 - false_negatives: 0.0000e+00 - val_loss: 0.6937 - val_binary_accuracy: 0.4333 - val_false_negatives: 0.0000e+00\n",
      "Epoch 27/50\n",
      "30/30 [==============================] - 16s 516ms/step - loss: 0.6927 - binary_accuracy: 0.5500 - false_negatives: 0.0000e+00 - val_loss: 0.6932 - val_binary_accuracy: 0.5000 - val_false_negatives: 0.0000e+00\n",
      "Epoch 28/50\n",
      "30/30 [==============================] - 16s 527ms/step - loss: 0.6928 - binary_accuracy: 0.5200 - false_negatives: 0.0000e+00 - val_loss: 0.6926 - val_binary_accuracy: 0.5333 - val_false_negatives: 0.0000e+00\n",
      "Epoch 29/50\n",
      "30/30 [==============================] - 16s 519ms/step - loss: 0.6925 - binary_accuracy: 0.5367 - false_negatives: 0.0000e+00 - val_loss: 0.6924 - val_binary_accuracy: 0.5333 - val_false_negatives: 0.0000e+00\n",
      "Epoch 30/50\n",
      "30/30 [==============================] - 16s 534ms/step - loss: 0.6938 - binary_accuracy: 0.4767 - false_negatives: 0.0000e+00 - val_loss: 0.6948 - val_binary_accuracy: 0.4333 - val_false_negatives: 0.0000e+00\n",
      "Epoch 31/50\n",
      "30/30 [==============================] - 16s 523ms/step - loss: 0.6939 - binary_accuracy: 0.4667 - false_negatives: 0.0000e+00 - val_loss: 0.6932 - val_binary_accuracy: 0.5000 - val_false_negatives: 0.0000e+00\n",
      "Epoch 32/50\n",
      "30/30 [==============================] - 16s 522ms/step - loss: 0.6931 - binary_accuracy: 0.5100 - false_negatives: 0.0000e+00 - val_loss: 0.6917 - val_binary_accuracy: 0.6000 - val_false_negatives: 0.0000e+00\n",
      "Epoch 33/50\n",
      "30/30 [==============================] - 16s 524ms/step - loss: 0.6930 - binary_accuracy: 0.5133 - false_negatives: 0.0000e+00 - val_loss: 0.6916 - val_binary_accuracy: 0.6000 - val_false_negatives: 0.0000e+00\n",
      "Epoch 34/50\n",
      "30/30 [==============================] - 16s 524ms/step - loss: 0.6936 - binary_accuracy: 0.4733 - false_negatives: 0.0000e+00 - val_loss: 0.6922 - val_binary_accuracy: 0.5667 - val_false_negatives: 0.0000e+00\n",
      "Epoch 35/50\n",
      "30/30 [==============================] - 16s 517ms/step - loss: 0.6933 - binary_accuracy: 0.4867 - false_negatives: 0.0000e+00 - val_loss: 0.6925 - val_binary_accuracy: 0.5667 - val_false_negatives: 0.0000e+00\n",
      "Epoch 36/50\n",
      "30/30 [==============================] - 16s 520ms/step - loss: 0.6935 - binary_accuracy: 0.4400 - false_negatives: 15.0000 - val_loss: 0.6932 - val_binary_accuracy: 0.4667 - val_false_negatives: 16.0000\n",
      "Epoch 37/50\n",
      "30/30 [==============================] - 16s 515ms/step - loss: 0.6932 - binary_accuracy: 0.4667 - false_negatives: 160.0000 - val_loss: 0.6932 - val_binary_accuracy: 0.4000 - val_false_negatives: 0.0000e+00\n",
      "Epoch 38/50\n",
      "30/30 [==============================] - 15s 515ms/step - loss: 0.6932 - binary_accuracy: 0.4833 - false_negatives: 0.0000e+00 - val_loss: 0.6931 - val_binary_accuracy: 0.5000 - val_false_negatives: 0.0000e+00\n",
      "Epoch 39/50\n",
      "30/30 [==============================] - 16s 519ms/step - loss: 0.6932 - binary_accuracy: 0.5000 - false_negatives: 68.0000 - val_loss: 0.6932 - val_binary_accuracy: 0.4667 - val_false_negatives: 16.0000\n",
      "Epoch 40/50\n",
      "30/30 [==============================] - 16s 535ms/step - loss: 0.6932 - binary_accuracy: 0.4967 - false_negatives: 151.0000 - val_loss: 0.6930 - val_binary_accuracy: 0.5333 - val_false_negatives: 14.0000\n",
      "Epoch 41/50\n",
      "30/30 [==============================] - 15s 513ms/step - loss: 0.6932 - binary_accuracy: 0.4600 - false_negatives: 91.0000 - val_loss: 0.6931 - val_binary_accuracy: 0.6000 - val_false_negatives: 12.0000\n",
      "Epoch 42/50\n",
      "30/30 [==============================] - 15s 514ms/step - loss: 0.6929 - binary_accuracy: 0.5600 - false_negatives: 132.0000 - val_loss: 0.6949 - val_binary_accuracy: 0.3000 - val_false_negatives: 21.0000\n",
      "Epoch 43/50\n",
      "30/30 [==============================] - 15s 515ms/step - loss: 0.6934 - binary_accuracy: 0.4867 - false_negatives: 154.0000 - val_loss: 0.6944 - val_binary_accuracy: 0.4000 - val_false_negatives: 18.0000\n",
      "Epoch 44/50\n",
      "30/30 [==============================] - 16s 531ms/step - loss: 0.6931 - binary_accuracy: 0.5067 - false_negatives: 148.0000 - val_loss: 0.6915 - val_binary_accuracy: 0.6667 - val_false_negatives: 10.0000\n",
      "Epoch 45/50\n",
      "30/30 [==============================] - 15s 514ms/step - loss: 0.6933 - binary_accuracy: 0.4867 - false_negatives: 154.0000 - val_loss: 0.6932 - val_binary_accuracy: 0.5000 - val_false_negatives: 15.0000\n",
      "Epoch 46/50\n",
      "30/30 [==============================] - 16s 524ms/step - loss: 0.6933 - binary_accuracy: 0.4933 - false_negatives: 152.0000 - val_loss: 0.6924 - val_binary_accuracy: 0.6000 - val_false_negatives: 12.0000\n",
      "Epoch 47/50\n",
      "30/30 [==============================] - 16s 535ms/step - loss: 0.6934 - binary_accuracy: 0.4633 - false_negatives: 161.0000 - val_loss: 0.6932 - val_binary_accuracy: 0.4667 - val_false_negatives: 16.0000\n",
      "Epoch 48/50\n",
      "30/30 [==============================] - 16s 539ms/step - loss: 0.6931 - binary_accuracy: 0.5300 - false_negatives: 141.0000 - val_loss: 0.6932 - val_binary_accuracy: 0.4667 - val_false_negatives: 16.0000\n",
      "Epoch 49/50\n",
      "30/30 [==============================] - 15s 516ms/step - loss: 0.6932 - binary_accuracy: 0.4933 - false_negatives: 152.0000 - val_loss: 0.6933 - val_binary_accuracy: 0.4333 - val_false_negatives: 17.0000\n",
      "Epoch 50/50\n",
      "30/30 [==============================] - 16s 518ms/step - loss: 0.6932 - binary_accuracy: 0.4833 - false_negatives: 100.0000 - val_loss: 0.6931 - val_binary_accuracy: 0.5000 - val_false_negatives: 0.0000e+00\n"
     ]
    }
   ],
   "source": [
    "history = model.fit(train_generator, \n",
    "                    epochs=50, \n",
    "                    steps_per_epoch=30, \n",
    "                    validation_data = validation_generator, \n",
    "                    verbose = 1, \n",
    "                    validation_steps=3)\n"
   ]
  }
 ],
 "metadata": {
  "kernelspec": {
   "display_name": "Python 3 (ipykernel)",
   "language": "python",
   "name": "python3"
  },
  "language_info": {
   "codemirror_mode": {
    "name": "ipython",
    "version": 3
   },
   "file_extension": ".py",
   "mimetype": "text/x-python",
   "name": "python",
   "nbconvert_exporter": "python",
   "pygments_lexer": "ipython3",
   "version": "3.9.12"
  }
 },
 "nbformat": 4,
 "nbformat_minor": 5
}
