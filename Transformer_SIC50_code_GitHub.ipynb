{
 "cells": [
  {
   "cell_type": "code",
   "execution_count": 1,
   "id": "f920e21e",
   "metadata": {},
   "outputs": [
    {
     "name": "stderr",
     "output_type": "stream",
     "text": [
      "C:\\Users\\lenovo-pc\\anaconda3\\lib\\site-packages\\scipy\\__init__.py:146: UserWarning: A NumPy version >=1.16.5 and <1.23.0 is required for this version of SciPy (detected version 1.23.1\n",
      "  warnings.warn(f\"A NumPy version >={np_minversion} and <{np_maxversion}\"\n"
     ]
    }
   ],
   "source": [
    "import numpy as np\n",
    "import tensorflow as tf\n",
    "from tensorflow import keras\n",
    "from tensorflow.keras import layers\n",
    "import tensorflow_addons as tfa\n",
    "from keras_preprocessing import image\n",
    "from keras_preprocessing.image import ImageDataGenerator"
   ]
  },
  {
   "cell_type": "code",
   "execution_count": 2,
   "id": "177176fd",
   "metadata": {},
   "outputs": [],
   "source": [
    "num_classes = 2\n",
    "input_shape = (201, 201, 3)"
   ]
  },
  {
   "cell_type": "code",
   "execution_count": 3,
   "id": "3078bf3e",
   "metadata": {},
   "outputs": [],
   "source": [
    "TRAINING_DIR = ('F:\\\\SIC50\\\\SIC50imagesRaw_1\\\\Cephalotaxine\\\\con3ctrl\\\\train')\n",
    "training_datagen = ImageDataGenerator(rescale = 1./255)"
   ]
  },
  {
   "cell_type": "code",
   "execution_count": 4,
   "id": "862e03e6",
   "metadata": {},
   "outputs": [],
   "source": [
    "VALIDATION_DIR = ('F:\\\\SIC50\\\\SIC50imagesRaw_1\\\\Cephalotaxine\\\\con3ctrl\\\\test')\n",
    "validation_datagen = ImageDataGenerator(rescale = 1./255)"
   ]
  },
  {
   "cell_type": "code",
   "execution_count": 5,
   "id": "74dae24d",
   "metadata": {},
   "outputs": [
    {
     "name": "stdout",
     "output_type": "stream",
     "text": [
      "Found 5040 images belonging to 2 classes.\n"
     ]
    }
   ],
   "source": [
    "train_generator = training_datagen.flow_from_directory(\n",
    "\tTRAINING_DIR,\n",
    "\ttarget_size=(201,201),\n",
    "\tclass_mode='binary',\n",
    "  batch_size=200\n",
    ")"
   ]
  },
  {
   "cell_type": "code",
   "execution_count": 6,
   "id": "51ab9245",
   "metadata": {},
   "outputs": [
    {
     "name": "stdout",
     "output_type": "stream",
     "text": [
      "Found 560 images belonging to 2 classes.\n"
     ]
    }
   ],
   "source": [
    "validation_generator = validation_datagen.flow_from_directory(\n",
    "\tVALIDATION_DIR,\n",
    "\ttarget_size=(201,201),\n",
    "\tclass_mode='binary',\n",
    "  batch_size=200\n",
    ")"
   ]
  },
  {
   "cell_type": "code",
   "execution_count": 7,
   "id": "889a5f70",
   "metadata": {},
   "outputs": [],
   "source": [
    "x_train, y_train = train_generator.next()\n",
    "x_test, y_test = validation_generator.next()"
   ]
  },
  {
   "cell_type": "code",
   "execution_count": 8,
   "id": "3bf1e74b",
   "metadata": {},
   "outputs": [
    {
     "name": "stdout",
     "output_type": "stream",
     "text": [
      "x_train shape: (200, 201, 201, 3) - y_train shape: (200,)\n",
      "x_test shape: (200, 201, 201, 3) - y_test shape: (200,)\n"
     ]
    }
   ],
   "source": [
    "print(f\"x_train shape: {x_train.shape} - y_train shape: {y_train.shape}\")\n",
    "print(f\"x_test shape: {x_test.shape} - y_test shape: {y_test.shape}\")"
   ]
  },
  {
   "cell_type": "code",
   "execution_count": 9,
   "id": "a6192263",
   "metadata": {},
   "outputs": [],
   "source": [
    "learning_rate = 0.001\n",
    "weight_decay = 0.0001\n",
    "batch_size = 200\n",
    "num_epochs = 100\n",
    "image_size = 72  # We'll resize input images to this size\n",
    "patch_size = 6  # Size of the patches to be extract from the input images\n",
    "num_patches = (image_size // patch_size) ** 2\n",
    "projection_dim = 64\n",
    "num_heads = 4\n",
    "transformer_units = [\n",
    "    projection_dim * 2,\n",
    "    projection_dim,\n",
    "]  # Size of the transformer layers\n",
    "transformer_layers = 4\n",
    "mlp_head_units = [2048, 1024]  # Size of the dense layers of the final classifier"
   ]
  },
  {
   "cell_type": "code",
   "execution_count": 10,
   "id": "ca4af452",
   "metadata": {},
   "outputs": [],
   "source": [
    "data_augmentation = keras.Sequential(\n",
    "    [\n",
    "        layers.Normalization(),\n",
    "        layers.Resizing(image_size, image_size),\n",
    "        layers.RandomFlip(\"horizontal\"),\n",
    "        layers.RandomRotation(factor=0.02),\n",
    "        layers.RandomZoom(\n",
    "            height_factor=0.2, width_factor=0.2\n",
    "        ),\n",
    "    ],\n",
    "    name=\"data_augmentation\",\n",
    ")\n",
    "# Compute the mean and the variance of the training data for normalization.\n",
    "data_augmentation.layers[0].adapt(x_train)"
   ]
  },
  {
   "cell_type": "code",
   "execution_count": 11,
   "id": "7819121e",
   "metadata": {},
   "outputs": [],
   "source": [
    "def mlp(x, hidden_units, dropout_rate):\n",
    "    for units in hidden_units:\n",
    "        x = layers.Dense(units, activation=tf.nn.gelu)(x)\n",
    "        x = layers.Dropout(dropout_rate)(x)\n",
    "    return x"
   ]
  },
  {
   "cell_type": "code",
   "execution_count": 12,
   "id": "bd14359b",
   "metadata": {},
   "outputs": [],
   "source": [
    "class Patches(layers.Layer):\n",
    "    def __init__(self, patch_size):\n",
    "        super(Patches, self).__init__()\n",
    "        self.patch_size = patch_size\n",
    "\n",
    "    def call(self, images):\n",
    "        batch_size = tf.shape(images)[0]\n",
    "        patches = tf.image.extract_patches(\n",
    "            images=images,\n",
    "            sizes=[1, self.patch_size, self.patch_size, 1],\n",
    "            strides=[1, self.patch_size, self.patch_size, 1],\n",
    "            rates=[1, 1, 1, 1],\n",
    "            padding=\"VALID\",\n",
    "        )\n",
    "        patch_dims = patches.shape[-1]\n",
    "        patches = tf.reshape(patches, [batch_size, -1, patch_dims])\n",
    "        return patches"
   ]
  },
  {
   "cell_type": "code",
   "execution_count": 13,
   "id": "a1163e5f",
   "metadata": {},
   "outputs": [
    {
     "name": "stdout",
     "output_type": "stream",
     "text": [
      "Image size: 72 X 72\n",
      "Patch size: 6 X 6\n",
      "Patches per image: 144\n",
      "Elements per patch: 108\n"
     ]
    },
    {
     "data": {
      "image/png": "[encoded data removed]",
      "text/plain": [
       "<Figure size 288x288 with 1 Axes>"
      ]
     },
     "metadata": {
      "needs_background": "light"
     },
     "output_type": "display_data"
    },
    {
     "data": {
      "image/png": "[encoded data removed]",
      "text/plain": [
       "<Figure size 288x288 with 144 Axes>"
      ]
     },
     "metadata": {
      "needs_background": "light"
     },
     "output_type": "display_data"
    }
   ],
   "source": [
    "import matplotlib.pyplot as plt\n",
    "\n",
    "plt.figure(figsize=(4, 4))\n",
    "image = x_train[np.random.choice(range(x_train.shape[0]))]\n",
    "plt.imshow(image.astype(\"uint8\"))\n",
    "plt.axis(\"off\")\n",
    "\n",
    "resized_image = tf.image.resize(\n",
    "    tf.convert_to_tensor([image]), size=(image_size, image_size)\n",
    ")\n",
    "patches = Patches(patch_size)(resized_image)\n",
    "print(f\"Image size: {image_size} X {image_size}\")\n",
    "print(f\"Patch size: {patch_size} X {patch_size}\")\n",
    "print(f\"Patches per image: {patches.shape[1]}\")\n",
    "print(f\"Elements per patch: {patches.shape[-1]}\")\n",
    "\n",
    "n = int(np.sqrt(patches.shape[1]))\n",
    "plt.figure(figsize=(4, 4))\n",
    "for i, patch in enumerate(patches[0]):\n",
    "    ax = plt.subplot(n, n, i + 1)\n",
    "    patch_img = tf.reshape(patch, (patch_size, patch_size, 3))\n",
    "    plt.imshow(patch_img.numpy().astype(\"uint8\"))\n",
    "    plt.axis(\"off\")"
   ]
  },
  {
   "cell_type": "code",
   "execution_count": 14,
   "id": "dc732e45",
   "metadata": {},
   "outputs": [],
   "source": [
    "class PatchEncoder(layers.Layer):\n",
    "    def __init__(self, num_patches, projection_dim):\n",
    "        super(PatchEncoder, self).__init__()\n",
    "        self.num_patches = num_patches\n",
    "        self.projection = layers.Dense(units=projection_dim)\n",
    "        self.position_embedding = layers.Embedding(\n",
    "            input_dim=num_patches, output_dim=projection_dim\n",
    "        )\n",
    "\n",
    "    def call(self, patch):\n",
    "        positions = tf.range(start=0, limit=self.num_patches, delta=1)\n",
    "        encoded = self.projection(patch) + self.position_embedding(positions)\n",
    "        return encoded\n"
   ]
  },
  {
   "cell_type": "code",
   "execution_count": 15,
   "id": "f70aa1d5",
   "metadata": {},
   "outputs": [],
   "source": [
    "def create_vit_classifier():\n",
    "    inputs = layers.Input(shape=input_shape)\n",
    "    # Augment data.\n",
    "    augmented = data_augmentation(inputs)\n",
    "    # Create patches.\n",
    "    patches = Patches(patch_size)(augmented)\n",
    "    # Encode patches.\n",
    "    encoded_patches = PatchEncoder(num_patches, projection_dim)(patches)\n",
    "\n",
    "    # Create multiple layers of the Transformer block.\n",
    "    for _ in range(transformer_layers):\n",
    "        # Layer normalization 1.\n",
    "        x1 = layers.LayerNormalization(epsilon=1e-6)(encoded_patches)\n",
    "        # Create a multi-head attention layer.\n",
    "        attention_output = layers.MultiHeadAttention(\n",
    "            num_heads=num_heads, key_dim=projection_dim, dropout=0.1\n",
    "        )(x1, x1)\n",
    "        # Skip connection 1.\n",
    "        x2 = layers.Add()([attention_output, encoded_patches])\n",
    "        # Layer normalization 2.\n",
    "        x3 = layers.LayerNormalization(epsilon=1e-6)(x2)\n",
    "        # MLP.\n",
    "        x3 = mlp(x3, hidden_units=transformer_units, dropout_rate=0.1)\n",
    "        # Skip connection 2.\n",
    "        encoded_patches = layers.Add()([x3, x2])\n",
    "\n",
    "    # Create a [batch_size, projection_dim] tensor.\n",
    "    representation = layers.LayerNormalization(epsilon=1e-6)(encoded_patches)\n",
    "    representation = layers.Flatten()(representation)\n",
    "    representation = layers.Dropout(0.5)(representation)\n",
    "    # Add MLP.\n",
    "    features = mlp(representation, hidden_units=mlp_head_units, dropout_rate=0.5)\n",
    "    # Classify outputs.\n",
    "    logits = layers.Dense(1)(features)\n",
    "    # Create the Keras model.\n",
    "    model = keras.Model(inputs=inputs, outputs=logits)\n",
    "    return model"
   ]
  },
  {
   "cell_type": "code",
   "execution_count": 16,
   "id": "54f0af18",
   "metadata": {
    "scrolled": false
   },
   "outputs": [
    {
     "name": "stdout",
     "output_type": "stream",
     "text": [
      "Epoch 1/100\n",
      "1/1 [==============================] - 10s 10s/step - loss: 1.2954 - accuracy: 0.5056 - val_loss: 3.9570 - val_accuracy: 0.5000\n",
      "Epoch 2/100\n",
      "1/1 [==============================] - 4s 4s/step - loss: 5.6209 - accuracy: 0.5444 - val_loss: 8.1469 - val_accuracy: 0.6500\n",
      "Epoch 3/100\n",
      "1/1 [==============================] - 4s 4s/step - loss: 11.8765 - accuracy: 0.5222 - val_loss: 2.2960 - val_accuracy: 0.5000\n",
      "Epoch 4/100\n",
      "1/1 [==============================] - 4s 4s/step - loss: 2.5045 - accuracy: 0.4778 - val_loss: 8.2329 - val_accuracy: 0.3500\n",
      "Epoch 5/100\n",
      "1/1 [==============================] - 5s 5s/step - loss: 6.5479 - accuracy: 0.4944 - val_loss: 0.8874 - val_accuracy: 0.7000\n",
      "Epoch 6/100\n",
      "1/1 [==============================] - 4s 4s/step - loss: 1.4406 - accuracy: 0.5333 - val_loss: 1.3363 - val_accuracy: 0.6000\n",
      "Epoch 7/100\n",
      "1/1 [==============================] - 4s 4s/step - loss: 1.9459 - accuracy: 0.5611 - val_loss: 1.8303 - val_accuracy: 0.5000\n",
      "Epoch 8/100\n",
      "1/1 [==============================] - 4s 4s/step - loss: 1.7703 - accuracy: 0.5444 - val_loss: 0.6988 - val_accuracy: 0.5000\n",
      "Epoch 9/100\n",
      "1/1 [==============================] - 4s 4s/step - loss: 1.0463 - accuracy: 0.5333 - val_loss: 1.2584 - val_accuracy: 0.5500\n",
      "Epoch 10/100\n",
      "1/1 [==============================] - 4s 4s/step - loss: 1.2865 - accuracy: 0.5333 - val_loss: 1.1444 - val_accuracy: 0.5500\n",
      "Epoch 11/100\n",
      "1/1 [==============================] - 4s 4s/step - loss: 1.0898 - accuracy: 0.5444 - val_loss: 0.8122 - val_accuracy: 0.4500\n",
      "Epoch 12/100\n",
      "1/1 [==============================] - 4s 4s/step - loss: 1.0205 - accuracy: 0.4944 - val_loss: 0.7854 - val_accuracy: 0.5000\n",
      "Epoch 13/100\n",
      "1/1 [==============================] - 4s 4s/step - loss: 0.9347 - accuracy: 0.5444 - val_loss: 0.7114 - val_accuracy: 0.7000\n",
      "Epoch 14/100\n",
      "1/1 [==============================] - 4s 4s/step - loss: 0.8555 - accuracy: 0.6111 - val_loss: 0.7148 - val_accuracy: 0.6000\n",
      "Epoch 15/100\n",
      "1/1 [==============================] - 4s 4s/step - loss: 0.9296 - accuracy: 0.5778 - val_loss: 0.6269 - val_accuracy: 0.7000\n",
      "Epoch 16/100\n",
      "1/1 [==============================] - 4s 4s/step - loss: 0.7313 - accuracy: 0.5833 - val_loss: 0.6649 - val_accuracy: 0.4500\n",
      "Epoch 17/100\n",
      "1/1 [==============================] - 4s 4s/step - loss: 0.7274 - accuracy: 0.5833 - val_loss: 0.7152 - val_accuracy: 0.4000\n",
      "Epoch 18/100\n",
      "1/1 [==============================] - 4s 4s/step - loss: 0.7648 - accuracy: 0.5611 - val_loss: 0.6521 - val_accuracy: 0.6500\n",
      "Epoch 19/100\n",
      "1/1 [==============================] - 5s 5s/step - loss: 0.7549 - accuracy: 0.5556 - val_loss: 0.6255 - val_accuracy: 0.8000\n",
      "Epoch 20/100\n",
      "1/1 [==============================] - 4s 4s/step - loss: 0.7733 - accuracy: 0.5667 - val_loss: 0.6127 - val_accuracy: 0.7000\n",
      "Epoch 21/100\n",
      "1/1 [==============================] - 4s 4s/step - loss: 0.7037 - accuracy: 0.5556 - val_loss: 0.6453 - val_accuracy: 0.5000\n",
      "Epoch 22/100\n",
      "1/1 [==============================] - 4s 4s/step - loss: 0.7110 - accuracy: 0.5889 - val_loss: 0.6723 - val_accuracy: 0.5000\n",
      "Epoch 23/100\n",
      "1/1 [==============================] - 4s 4s/step - loss: 0.6959 - accuracy: 0.5778 - val_loss: 0.6245 - val_accuracy: 0.5000\n",
      "Epoch 24/100\n",
      "1/1 [==============================] - 4s 4s/step - loss: 0.6694 - accuracy: 0.6111 - val_loss: 0.5873 - val_accuracy: 0.5500\n",
      "Epoch 25/100\n",
      "1/1 [==============================] - 4s 4s/step - loss: 0.6734 - accuracy: 0.6333 - val_loss: 0.5688 - val_accuracy: 0.6000\n",
      "Epoch 26/100\n",
      "1/1 [==============================] - 4s 4s/step - loss: 0.6822 - accuracy: 0.6056 - val_loss: 0.5606 - val_accuracy: 0.6000\n",
      "Epoch 27/100\n",
      "1/1 [==============================] - 4s 4s/step - loss: 0.7424 - accuracy: 0.5333 - val_loss: 0.5624 - val_accuracy: 0.6000\n",
      "Epoch 28/100\n",
      "1/1 [==============================] - 4s 4s/step - loss: 0.5769 - accuracy: 0.6778 - val_loss: 0.5934 - val_accuracy: 0.6000\n",
      "Epoch 29/100\n",
      "1/1 [==============================] - 4s 4s/step - loss: 0.6347 - accuracy: 0.6611 - val_loss: 0.5872 - val_accuracy: 0.6000\n",
      "Epoch 30/100\n",
      "1/1 [==============================] - 4s 4s/step - loss: 0.6221 - accuracy: 0.6556 - val_loss: 0.5606 - val_accuracy: 0.6500\n",
      "Epoch 31/100\n",
      "1/1 [==============================] - 4s 4s/step - loss: 0.6041 - accuracy: 0.6833 - val_loss: 0.5458 - val_accuracy: 0.7000\n",
      "Epoch 32/100\n",
      "1/1 [==============================] - 5s 5s/step - loss: 0.6326 - accuracy: 0.6722 - val_loss: 0.5046 - val_accuracy: 0.9000\n",
      "Epoch 33/100\n",
      "1/1 [==============================] - 4s 4s/step - loss: 0.6361 - accuracy: 0.6944 - val_loss: 0.4818 - val_accuracy: 0.9000\n",
      "Epoch 34/100\n",
      "1/1 [==============================] - 4s 4s/step - loss: 0.6600 - accuracy: 0.6556 - val_loss: 0.4700 - val_accuracy: 0.8500\n",
      "Epoch 35/100\n",
      "1/1 [==============================] - 4s 4s/step - loss: 0.5860 - accuracy: 0.6611 - val_loss: 0.4629 - val_accuracy: 0.8500\n",
      "Epoch 36/100\n",
      "1/1 [==============================] - 4s 4s/step - loss: 0.6933 - accuracy: 0.6611 - val_loss: 0.4734 - val_accuracy: 0.8500\n",
      "Epoch 37/100\n",
      "1/1 [==============================] - 4s 4s/step - loss: 0.6321 - accuracy: 0.6944 - val_loss: 0.4967 - val_accuracy: 0.8000\n",
      "Epoch 38/100\n",
      "1/1 [==============================] - 5s 5s/step - loss: 0.6039 - accuracy: 0.6556 - val_loss: 0.5066 - val_accuracy: 0.8500\n",
      "Epoch 39/100\n",
      "1/1 [==============================] - 4s 4s/step - loss: 0.5820 - accuracy: 0.7167 - val_loss: 0.5090 - val_accuracy: 0.8500\n",
      "Epoch 40/100\n",
      "1/1 [==============================] - 4s 4s/step - loss: 0.6326 - accuracy: 0.6833 - val_loss: 0.4852 - val_accuracy: 0.8500\n",
      "Epoch 41/100\n",
      "1/1 [==============================] - 5s 5s/step - loss: 0.5930 - accuracy: 0.7222 - val_loss: 0.4824 - val_accuracy: 0.8500\n",
      "Epoch 42/100\n",
      "1/1 [==============================] - 4s 4s/step - loss: 0.5433 - accuracy: 0.7222 - val_loss: 0.4992 - val_accuracy: 0.6000\n",
      "Epoch 43/100\n",
      "1/1 [==============================] - 4s 4s/step - loss: 0.6226 - accuracy: 0.6778 - val_loss: 0.4944 - val_accuracy: 0.6000\n",
      "Epoch 44/100\n",
      "1/1 [==============================] - 4s 4s/step - loss: 0.5904 - accuracy: 0.6611 - val_loss: 0.4497 - val_accuracy: 0.8500\n",
      "Epoch 45/100\n",
      "1/1 [==============================] - 5s 5s/step - loss: 0.5816 - accuracy: 0.6944 - val_loss: 0.4506 - val_accuracy: 0.8500\n",
      "Epoch 46/100\n",
      "1/1 [==============================] - 5s 5s/step - loss: 0.5335 - accuracy: 0.7167 - val_loss: 0.4661 - val_accuracy: 0.7500\n",
      "Epoch 47/100\n",
      "1/1 [==============================] - 4s 4s/step - loss: 0.5312 - accuracy: 0.7611 - val_loss: 0.4908 - val_accuracy: 0.8000\n",
      "Epoch 48/100\n",
      "1/1 [==============================] - 4s 4s/step - loss: 0.4825 - accuracy: 0.7333 - val_loss: 0.5195 - val_accuracy: 0.6000\n",
      "Epoch 49/100\n",
      "1/1 [==============================] - 4s 4s/step - loss: 0.5880 - accuracy: 0.6722 - val_loss: 0.5352 - val_accuracy: 0.6000\n",
      "Epoch 50/100\n",
      "1/1 [==============================] - 4s 4s/step - loss: 0.5391 - accuracy: 0.6778 - val_loss: 0.5144 - val_accuracy: 0.7000\n",
      "Epoch 51/100\n",
      "1/1 [==============================] - 4s 4s/step - loss: 0.4764 - accuracy: 0.7500 - val_loss: 0.4858 - val_accuracy: 0.7500\n",
      "Epoch 52/100\n",
      "1/1 [==============================] - 4s 4s/step - loss: 0.4458 - accuracy: 0.8000 - val_loss: 0.4720 - val_accuracy: 0.7500\n",
      "Epoch 53/100\n",
      "1/1 [==============================] - 4s 4s/step - loss: 0.4961 - accuracy: 0.7556 - val_loss: 0.4655 - val_accuracy: 0.7500\n",
      "Epoch 54/100\n",
      "1/1 [==============================] - 5s 5s/step - loss: 0.5344 - accuracy: 0.7222 - val_loss: 0.4717 - val_accuracy: 0.7000\n",
      "Epoch 55/100\n",
      "1/1 [==============================] - 4s 4s/step - loss: 0.5331 - accuracy: 0.7278 - val_loss: 0.4669 - val_accuracy: 0.7000\n",
      "Epoch 56/100\n",
      "1/1 [==============================] - 4s 4s/step - loss: 0.4115 - accuracy: 0.7667 - val_loss: 0.4489 - val_accuracy: 0.7500\n",
      "Epoch 57/100\n",
      "1/1 [==============================] - 4s 4s/step - loss: 0.4994 - accuracy: 0.7444 - val_loss: 0.4384 - val_accuracy: 0.8000\n",
      "Epoch 58/100\n",
      "1/1 [==============================] - 4s 4s/step - loss: 0.4183 - accuracy: 0.7889 - val_loss: 0.4521 - val_accuracy: 0.7000\n",
      "Epoch 59/100\n",
      "1/1 [==============================] - 5s 5s/step - loss: 0.5071 - accuracy: 0.7500 - val_loss: 0.4697 - val_accuracy: 0.7000\n"
     ]
    },
    {
     "name": "stdout",
     "output_type": "stream",
     "text": [
      "Epoch 60/100\n",
      "1/1 [==============================] - 4s 4s/step - loss: 0.3899 - accuracy: 0.8056 - val_loss: 0.4390 - val_accuracy: 0.7000\n",
      "Epoch 61/100\n",
      "1/1 [==============================] - 4s 4s/step - loss: 0.4118 - accuracy: 0.7944 - val_loss: 0.3930 - val_accuracy: 0.8500\n",
      "Epoch 62/100\n",
      "1/1 [==============================] - 4s 4s/step - loss: 0.4530 - accuracy: 0.8111 - val_loss: 0.3829 - val_accuracy: 0.8500\n",
      "Epoch 63/100\n",
      "1/1 [==============================] - 4s 4s/step - loss: 0.4737 - accuracy: 0.8222 - val_loss: 0.4442 - val_accuracy: 0.6500\n",
      "Epoch 64/100\n",
      "1/1 [==============================] - 4s 4s/step - loss: 0.4732 - accuracy: 0.7722 - val_loss: 0.3925 - val_accuracy: 0.7500\n",
      "Epoch 65/100\n",
      "1/1 [==============================] - 5s 5s/step - loss: 0.4503 - accuracy: 0.7778 - val_loss: 0.3262 - val_accuracy: 0.7500\n",
      "Epoch 66/100\n",
      "1/1 [==============================] - 4s 4s/step - loss: 0.4881 - accuracy: 0.7444 - val_loss: 0.3464 - val_accuracy: 0.7500\n",
      "Epoch 67/100\n",
      "1/1 [==============================] - 4s 4s/step - loss: 0.4278 - accuracy: 0.7722 - val_loss: 0.4221 - val_accuracy: 0.6500\n",
      "Epoch 68/100\n",
      "1/1 [==============================] - 4s 4s/step - loss: 0.4409 - accuracy: 0.7944 - val_loss: 0.4545 - val_accuracy: 0.6000\n",
      "Epoch 69/100\n",
      "1/1 [==============================] - 4s 4s/step - loss: 0.4339 - accuracy: 0.7667 - val_loss: 0.4171 - val_accuracy: 0.7000\n",
      "Epoch 70/100\n",
      "1/1 [==============================] - 4s 4s/step - loss: 0.4118 - accuracy: 0.7889 - val_loss: 0.3943 - val_accuracy: 0.8500\n",
      "Epoch 71/100\n",
      "1/1 [==============================] - 4s 4s/step - loss: 0.4271 - accuracy: 0.8111 - val_loss: 0.4315 - val_accuracy: 0.6500\n",
      "Epoch 72/100\n",
      "1/1 [==============================] - 4s 4s/step - loss: 0.4055 - accuracy: 0.8222 - val_loss: 0.4425 - val_accuracy: 0.6000\n",
      "Epoch 73/100\n",
      "1/1 [==============================] - 4s 4s/step - loss: 0.4093 - accuracy: 0.8167 - val_loss: 0.4096 - val_accuracy: 0.6500\n",
      "Epoch 74/100\n",
      "1/1 [==============================] - 4s 4s/step - loss: 0.4715 - accuracy: 0.7778 - val_loss: 0.3442 - val_accuracy: 0.8000\n",
      "Epoch 75/100\n",
      "1/1 [==============================] - 4s 4s/step - loss: 0.3915 - accuracy: 0.8333 - val_loss: 0.3488 - val_accuracy: 0.9000\n",
      "Epoch 76/100\n",
      "1/1 [==============================] - 4s 4s/step - loss: 0.3187 - accuracy: 0.8778 - val_loss: 0.3765 - val_accuracy: 0.8000\n",
      "Epoch 77/100\n",
      "1/1 [==============================] - 4s 4s/step - loss: 0.3602 - accuracy: 0.8278 - val_loss: 0.4476 - val_accuracy: 0.7000\n",
      "Epoch 78/100\n",
      "1/1 [==============================] - 4s 4s/step - loss: 0.4051 - accuracy: 0.8389 - val_loss: 0.4134 - val_accuracy: 0.7000\n",
      "Epoch 79/100\n",
      "1/1 [==============================] - 4s 4s/step - loss: 0.4110 - accuracy: 0.8222 - val_loss: 0.3386 - val_accuracy: 0.8500\n",
      "Epoch 80/100\n",
      "1/1 [==============================] - 5s 5s/step - loss: 0.3540 - accuracy: 0.8389 - val_loss: 0.3198 - val_accuracy: 0.9000\n",
      "Epoch 81/100\n",
      "1/1 [==============================] - 4s 4s/step - loss: 0.3293 - accuracy: 0.8222 - val_loss: 0.3558 - val_accuracy: 0.8000\n",
      "Epoch 82/100\n",
      "1/1 [==============================] - 4s 4s/step - loss: 0.3712 - accuracy: 0.8222 - val_loss: 0.4459 - val_accuracy: 0.7000\n",
      "Epoch 83/100\n",
      "1/1 [==============================] - 4s 4s/step - loss: 0.3381 - accuracy: 0.8444 - val_loss: 0.4401 - val_accuracy: 0.7000\n",
      "Epoch 84/100\n",
      "1/1 [==============================] - 4s 4s/step - loss: 0.2873 - accuracy: 0.8389 - val_loss: 0.3720 - val_accuracy: 0.8000\n",
      "Epoch 85/100\n",
      "1/1 [==============================] - 4s 4s/step - loss: 0.3650 - accuracy: 0.8667 - val_loss: 0.3650 - val_accuracy: 0.8000\n",
      "Epoch 86/100\n",
      "1/1 [==============================] - 5s 5s/step - loss: 0.3573 - accuracy: 0.8556 - val_loss: 0.4132 - val_accuracy: 0.7500\n",
      "Epoch 87/100\n",
      "1/1 [==============================] - 5s 5s/step - loss: 0.3448 - accuracy: 0.8222 - val_loss: 0.4187 - val_accuracy: 0.7500\n",
      "Epoch 88/100\n",
      "1/1 [==============================] - 4s 4s/step - loss: 0.3235 - accuracy: 0.8389 - val_loss: 0.3542 - val_accuracy: 0.8000\n",
      "Epoch 89/100\n",
      "1/1 [==============================] - 4s 4s/step - loss: 0.3059 - accuracy: 0.8500 - val_loss: 0.3369 - val_accuracy: 0.8500\n",
      "Epoch 90/100\n",
      "1/1 [==============================] - 4s 4s/step - loss: 0.2612 - accuracy: 0.8778 - val_loss: 0.3387 - val_accuracy: 0.8500\n",
      "Epoch 91/100\n",
      "1/1 [==============================] - 4s 4s/step - loss: 0.3056 - accuracy: 0.8833 - val_loss: 0.3811 - val_accuracy: 0.8000\n",
      "Epoch 92/100\n",
      "1/1 [==============================] - 4s 4s/step - loss: 0.2701 - accuracy: 0.8722 - val_loss: 0.5098 - val_accuracy: 0.7000\n",
      "Epoch 93/100\n",
      "1/1 [==============================] - 4s 4s/step - loss: 0.3437 - accuracy: 0.8167 - val_loss: 0.4086 - val_accuracy: 0.8000\n",
      "Epoch 94/100\n",
      "1/1 [==============================] - 4s 4s/step - loss: 0.3580 - accuracy: 0.8167 - val_loss: 0.3316 - val_accuracy: 0.8500\n",
      "Epoch 95/100\n",
      "1/1 [==============================] - 4s 4s/step - loss: 0.3745 - accuracy: 0.8556 - val_loss: 0.3009 - val_accuracy: 0.9000\n",
      "Epoch 96/100\n",
      "1/1 [==============================] - 4s 4s/step - loss: 0.3552 - accuracy: 0.8556 - val_loss: 0.3516 - val_accuracy: 0.8000\n",
      "Epoch 97/100\n",
      "1/1 [==============================] - 4s 4s/step - loss: 0.3048 - accuracy: 0.8667 - val_loss: 0.5460 - val_accuracy: 0.7000\n",
      "Epoch 98/100\n",
      "1/1 [==============================] - 4s 4s/step - loss: 0.3882 - accuracy: 0.8056 - val_loss: 0.5511 - val_accuracy: 0.7000\n",
      "Epoch 99/100\n",
      "1/1 [==============================] - 4s 4s/step - loss: 0.3767 - accuracy: 0.8056 - val_loss: 0.4194 - val_accuracy: 0.7500\n",
      "Epoch 100/100\n",
      "1/1 [==============================] - 4s 4s/step - loss: 0.3782 - accuracy: 0.8333 - val_loss: 0.4101 - val_accuracy: 0.7500\n"
     ]
    }
   ],
   "source": [
    "def run_experiment(model):\n",
    "    optimizer = tfa.optimizers.AdamW(\n",
    "        learning_rate=learning_rate, weight_decay=weight_decay\n",
    "    )\n",
    "\n",
    "    model.compile(\n",
    "        optimizer=optimizer,\n",
    "        loss=keras.losses.BinaryCrossentropy(from_logits=True),\n",
    "        metrics=[\n",
    "            keras.metrics.BinaryAccuracy(name=\"accuracy\"),\n",
    "        ],\n",
    "    )\n",
    "\n",
    "    checkpoint_filepath = \"./tmp/checkpoint\"\n",
    "    checkpoint_callback = keras.callbacks.ModelCheckpoint(\n",
    "        checkpoint_filepath,\n",
    "        monitor=\"val_accuracy\",\n",
    "        save_best_only=True,\n",
    "        save_weights_only=True,\n",
    "    )\n",
    "\n",
    "    history = model.fit(\n",
    "        x=x_train,\n",
    "        y=y_train,\n",
    "        batch_size=batch_size,\n",
    "        epochs=num_epochs,\n",
    "        validation_split=0.1,\n",
    "        callbacks=[checkpoint_callback],\n",
    "    )\n",
    "\n",
    "    model.load_weights(checkpoint_filepath)\n",
    " \n",
    "    return history\n",
    "\n",
    "vit_classifier = create_vit_classifier()\n",
    "history = run_experiment(vit_classifier)"
   ]
  }
 ],
 "metadata": {
  "kernelspec": {
   "display_name": "Python 3 (ipykernel)",
   "language": "python",
   "name": "python3"
  },
  "language_info": {
   "codemirror_mode": {
    "name": "ipython",
    "version": 3
   },
   "file_extension": ".py",
   "mimetype": "text/x-python",
   "name": "python",
   "nbconvert_exporter": "python",
   "pygments_lexer": "ipython3",
   "version": "3.9.12"
  }
 },
 "nbformat": 4,
 "nbformat_minor": 5
}
